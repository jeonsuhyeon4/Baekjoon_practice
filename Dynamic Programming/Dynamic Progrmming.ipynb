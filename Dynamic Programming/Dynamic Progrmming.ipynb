{
 "cells": [
  {
   "cell_type": "markdown",
   "id": "6c414b5f",
   "metadata": {},
   "source": [
    "### 2839. [설탕배달] \n",
    "##### 상근이는 요즘 설탕공장에서 설탕을 배달하고 있다. 상근이는 지금 사탕가게에 설탕을 정확하게 N킬로그램을 배달해야 한다. 설탕공장에서 만드는 설탕은 봉지에 담겨져 있다. 봉지는 3킬로그램 봉지와 5킬로그램 봉지가 있다. 상근이는 귀찮기 때문에, 최대한 적은 봉지를 들고 가려고 한다. 예를 들어, 18킬로그램 설탕을 배달해야 할 때, 3킬로그램 봉지 6개를 가져가도 되지만, 5킬로그램 3개와 3킬로그램 1개를 배달하면, 더 적은 개수의 봉지를 배달할 수 있다. 상근이가 설탕을 정확하게 N킬로그램 배달해야 할 때, 봉지 몇 개를 가져가면 되는지 그 수를 구하는 프로그램을 작성하시오"
   ]
  },
  {
   "cell_type": "code",
   "execution_count": 59,
   "id": "cf0c3784",
   "metadata": {},
   "outputs": [
    {
     "name": "stdout",
     "output_type": "stream",
     "text": [
      "6\n"
     ]
    }
   ],
   "source": [
    "n = int(input())\n",
    "\n",
    "result = -1\n",
    "\n",
    "for five in range(n // 5, -1, -1):\n",
    "    rest = n - (five * 5)\n",
    "    if rest % 3 == 0:\n",
    "        three = rest // 3\n",
    "        result = five + three\n",
    "        break\n",
    "\n",
    "print(result)"
   ]
  },
  {
   "cell_type": "markdown",
   "id": "62318d8d",
   "metadata": {},
   "source": [
    "### 1463. [1로 만들기]\n",
    "#### 정수 X에 사용할 수 있는 연산은 다음과 같이 세 가지 이다. 1. X가 3으로 나누어 떨어지면, 3으로 나눈다. 2.X가 2로 나누어 떨어지면, 2로 나눈다. 3.1을 뺀다. 정수 N이 주어졌을 때, 위와 같은 연산 세 개를 적절히 사용해서 1을 만들려고 한다. 연산을 사용하는 횟수의 최솟값을 출력하시오."
   ]
  },
  {
   "cell_type": "code",
   "execution_count": null,
   "id": "c37d0657",
   "metadata": {},
   "outputs": [
    {
     "name": "stdout",
     "output_type": "stream",
     "text": [
      "1\n"
     ]
    }
   ],
   "source": [
    "N = int(input())\n",
    "\n",
    "dp = [0] * 10000001\n",
    "\n",
    "#dp[i] : 숫자 i를 만드는데 필요한 최소 연산 횟수\n",
    "#보텀업\n",
    "for i in range (2, N+1) :\n",
    "    dp[i] = dp[i-1] + 1 # 1을 빼주는 경우는 모든 숫자에 대해서 가능\n",
    "    \n",
    "    if i % 2 == 0: # 2로 나누어 떨어지는 경우, 최소값 갱신\n",
    "        dp[i] = min(dp[i], dp[i//2] + 1) \n",
    "    \n",
    "    if i % 3 == 0 :# 3으로 나누어 떨어지는 경우, 최소값 갱신\n",
    "        dp[i] = min(dp[i], dp[i//3] + 1)\n",
    "\n",
    "print(dp[N])"
   ]
  },
  {
   "cell_type": "markdown",
   "id": "5dd49e8b",
   "metadata": {},
   "source": [
    "### 9095 [1,2,3 더하기] \n",
    "#### "
   ]
  },
  {
   "cell_type": "code",
   "execution_count": null,
   "id": "31204413",
   "metadata": {},
   "outputs": [],
   "source": []
  }
 ],
 "metadata": {
  "kernelspec": {
   "display_name": "Python 3",
   "language": "python",
   "name": "python3"
  },
  "language_info": {
   "codemirror_mode": {
    "name": "ipython",
    "version": 3
   },
   "file_extension": ".py",
   "mimetype": "text/x-python",
   "name": "python",
   "nbconvert_exporter": "python",
   "pygments_lexer": "ipython3",
   "version": "3.11.9"
  }
 },
 "nbformat": 4,
 "nbformat_minor": 5
}
