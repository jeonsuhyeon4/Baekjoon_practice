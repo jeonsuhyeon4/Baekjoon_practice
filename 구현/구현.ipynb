{
 "cells": [
  {
   "cell_type": "markdown",
   "id": "dbd76520",
   "metadata": {},
   "source": [
    "### 1000. 두 정수 A와 B를 입력받은 다음, A+B를 출력하는 프로그램을 작성하시오. ✓"
   ]
  },
  {
   "cell_type": "code",
   "execution_count": 12,
   "id": "a978da58",
   "metadata": {},
   "outputs": [
    {
     "name": "stdout",
     "output_type": "stream",
     "text": [
      "16\n"
     ]
    }
   ],
   "source": [
    "a, b = map(int, input().split())\n",
    "print(a+b)"
   ]
  },
  {
   "cell_type": "markdown",
   "id": "2d996895",
   "metadata": {},
   "source": [
    "### 1001. 두 정수 A와 B를 입력받은 다음, A-B를 출력하는 프로그램을 작성하시오."
   ]
  },
  {
   "cell_type": "code",
   "execution_count": 2,
   "id": "48853976",
   "metadata": {},
   "outputs": [
    {
     "name": "stdout",
     "output_type": "stream",
     "text": [
      "0\n"
     ]
    }
   ],
   "source": [
    "a,b = map(int, input().split())\n",
    "print(a-b)"
   ]
  },
  {
   "cell_type": "markdown",
   "id": "c55e571f",
   "metadata": {},
   "source": [
    "### 10998. 두 정수 A와 B를 입력받은 다음, A×B를 출력하는 프로그램을 작성하시오."
   ]
  },
  {
   "cell_type": "code",
   "execution_count": 3,
   "id": "d33b3b52",
   "metadata": {},
   "outputs": [
    {
     "name": "stdout",
     "output_type": "stream",
     "text": [
      "6\n"
     ]
    }
   ],
   "source": [
    "a,b = map(int, input().split())\n",
    "print(a*b)"
   ]
  },
  {
   "cell_type": "markdown",
   "id": "0613cad4",
   "metadata": {},
   "source": [
    "### 10869. 두 자연수 A와 B가 주어진다. 이때, A+B, A-B, A*B, A/B(몫), A%B(나머지)를 출력하는 프로그램을 작성하시오. "
   ]
  },
  {
   "cell_type": "code",
   "execution_count": null,
   "id": "1a5cb381",
   "metadata": {},
   "outputs": [],
   "source": [
    "a,b = map(int, input().split())\n",
    "\n",
    "print(a+b)\n",
    "print(a-b)\n",
    "print(a*b)\n",
    "print(a//b)\n",
    "print(a%b)"
   ]
  },
  {
   "cell_type": "markdown",
   "id": "43c8a38d",
   "metadata": {},
   "source": [
    "### 1008. 두 정수 A와 B를 입력받은 다음, A/B를 출력하는 프로그램을 작성하시오."
   ]
  },
  {
   "cell_type": "code",
   "execution_count": 2,
   "id": "83c15eef",
   "metadata": {},
   "outputs": [
    {
     "name": "stdout",
     "output_type": "stream",
     "text": [
      "1.6666666666666667\n"
     ]
    }
   ],
   "source": [
    "a,b = map(int, input().split())\n",
    "print(a/b)"
   ]
  },
  {
   "cell_type": "markdown",
   "id": "de61f55e",
   "metadata": {},
   "source": [
    "### 9498. 시험 점수를 입력받아 90 ~ 100점은 A, 80 ~ 89점은 B, 70 ~ 79점은 C, 60 ~ 69점은 D, 나머지 점수는 F를 출력하는 프로그램을 작성하시오."
   ]
  },
  {
   "cell_type": "code",
   "execution_count": 10,
   "id": "8a22f04d",
   "metadata": {},
   "outputs": [
    {
     "name": "stdout",
     "output_type": "stream",
     "text": [
      "B\n"
     ]
    }
   ],
   "source": [
    "x = input()\n",
    "\n",
    "if 90 <= int(x) <= 100:\n",
    "    print('A')\n",
    "elif 80 <= int(x) <= 89:\n",
    "    print('B')\n",
    "elif 70 <= int(x) <= 79:\n",
    "    print('C')\n",
    "elif 60 <= int(x) <= 69:\n",
    "    print('D')\n",
    "else:\n",
    "    print('F')"
   ]
  },
  {
   "cell_type": "code",
   "execution_count": 11,
   "id": "ef7117c6",
   "metadata": {},
   "outputs": [
    {
     "name": "stdout",
     "output_type": "stream",
     "text": [
      "B\n"
     ]
    }
   ],
   "source": [
    "# 또 다른 방식식\n",
    "x = int(input())\n",
    "\n",
    "if 90 <= x <= 100:\n",
    "    print('A')\n",
    "elif 80 <= x <= 89:\n",
    "    print('B')\n",
    "elif 70 <= x <= 79:\n",
    "    print('C')\n",
    "elif 60 <= x <= 69:\n",
    "    print('D')\n",
    "else:\n",
    "    print('F')"
   ]
  },
  {
   "cell_type": "markdown",
   "id": "80d9518b",
   "metadata": {},
   "source": [
    "### 1330. 두 정수 A와 B가 주어졌을 때, A와 B를 비교하는 프로그램을 작성하시오. (A와 B는 공백 한 칸으로 구분되어져 있다)"
   ]
  },
  {
   "cell_type": "code",
   "execution_count": 12,
   "id": "fa98a344",
   "metadata": {},
   "outputs": [
    {
     "name": "stdout",
     "output_type": "stream",
     "text": [
      "<\n"
     ]
    }
   ],
   "source": [
    "a,b = map(int, input().split())\n",
    "\n",
    "if a > b:\n",
    "    print('>')\n",
    "elif a < b:\n",
    "    print('<')\n",
    "elif a == b:\n",
    "    print('==')"
   ]
  },
  {
   "cell_type": "markdown",
   "id": "08efe2fc",
   "metadata": {},
   "source": [
    "### 2739. N을 입력받은 뒤, 구구단 N단을 출력하는 프로그램을 작성하시오. 출력 형식에 맞춰서 출력하면 된다. (N은 1보다 크거나 같고, 9보다 작거나 같음, N*1부터 N*9까지 출력)"
   ]
  },
  {
   "cell_type": "code",
   "execution_count": null,
   "id": "9d6290c3",
   "metadata": {},
   "outputs": [
    {
     "name": "stdout",
     "output_type": "stream",
     "text": [
      "9 * 1 = 9\n",
      "9 * 2 = 18\n",
      "9 * 3 = 27\n",
      "9 * 4 = 36\n",
      "9 * 5 = 45\n",
      "9 * 6 = 54\n",
      "9 * 7 = 63\n",
      "9 * 8 = 72\n"
     ]
    }
   ],
   "source": [
    "n = int(input())\n",
    "\n",
    "for i in range(1,10,1):\n",
    "    print(n, '*' , int(i) ,'=', n * int(i))"
   ]
  },
  {
   "cell_type": "markdown",
   "id": "e2d22304",
   "metadata": {},
   "source": [
    "### 10430. (A+B)%C는 ((A%C) + (B%C))%C 와 같을까? \n",
    "### (A×B)%C는 ((A%C) × (B%C))%C 와 같을까?\n",
    "### 세 수 A, B, C가 주어졌을 때, 위의 네 가지 값을 구하는 프로그램을 작성하시오."
   ]
  },
  {
   "cell_type": "code",
   "execution_count": 19,
   "id": "5db7f5cb",
   "metadata": {},
   "outputs": [
    {
     "name": "stdout",
     "output_type": "stream",
     "text": [
      "1\n",
      "1\n",
      "0\n",
      "0\n"
     ]
    }
   ],
   "source": [
    "a,b,c = map(int, input().split())\n",
    "\n",
    "print((a+b)%c)\n",
    "print(((a%c) + (b%c))%c)\n",
    "print((a*b)%c)\n",
    "print(((a%c) * (b%c))%c)"
   ]
  },
  {
   "cell_type": "markdown",
   "id": "a11e3740",
   "metadata": {},
   "source": [
    "### 2438. 첫째 줄에는 별 1개, 둘째 줄에는 별 2개, N번째 줄에는 별 N개를 찍는 문제"
   ]
  },
  {
   "cell_type": "code",
   "execution_count": 24,
   "id": "1aad4608",
   "metadata": {},
   "outputs": [
    {
     "name": "stdout",
     "output_type": "stream",
     "text": [
      "*\n",
      "**\n",
      "***\n",
      "****\n",
      "*****\n"
     ]
    }
   ],
   "source": [
    "n = int(input())\n",
    "\n",
    "for i in range(1,n+1,1):\n",
    "    print('*' * int(i))"
   ]
  },
  {
   "cell_type": "markdown",
   "id": "cea70505",
   "metadata": {},
   "source": [
    "### 10171. 아래 예제와 같이 고양이를 출력하시오."
   ]
  },
  {
   "cell_type": "code",
   "execution_count": 1,
   "id": "28b0ef5f",
   "metadata": {},
   "outputs": [
    {
     "name": "stdout",
     "output_type": "stream",
     "text": [
      "\\    /\\ \n",
      " )  ( ')\n",
      "(  /  )\n",
      " \\(__)|\n"
     ]
    }
   ],
   "source": [
    "print(\"\\    /\\ \")\n",
    "print(\" )  ( ')\")\n",
    "print(\"(  /  )\")\n",
    "print(\" \\(__)|\")\n",
    "      "
   ]
  },
  {
   "cell_type": "markdown",
   "id": "5fa76f2f",
   "metadata": {},
   "source": [
    "### 2753. 연도가 주어졌을 때, 윤년이면 1, 아니면 0을 출력하는 프로그램을 작성하시오. 윤년은 연도가 4의 배수이면서, 100의 배수가 아닐 때 또는 400의 배수일 때이다. 예를 들어, 2012년은 4의 배수이면서 100의 배수가 아니라서 윤년이다. 1900년은 100의 배수이고 400의 배수는 아니기 때문에 윤년이 아니다. 하지만, 2000년은 400의 배수이기 때문에 윤년이다."
   ]
  },
  {
   "cell_type": "code",
   "execution_count": 2,
   "id": "c2e341e0",
   "metadata": {},
   "outputs": [
    {
     "name": "stdout",
     "output_type": "stream",
     "text": [
      "1\n"
     ]
    }
   ],
   "source": [
    "x = int(input())\n",
    "\n",
    "if (((x%4 == 0) & (x%100 != 0)) | (x%400 == 0)):\n",
    "    print(1)\n",
    "else:\n",
    "    print(0)"
   ]
  },
  {
   "cell_type": "markdown",
   "id": "56fe191f",
   "metadata": {},
   "source": [
    "### 10172. 아래 예제와 같이 개를 출력하시오. (고양이 문제와 비슷) ✓"
   ]
  },
  {
   "cell_type": "code",
   "execution_count": 7,
   "id": "6f0fca5c",
   "metadata": {},
   "outputs": [
    {
     "name": "stdout",
     "output_type": "stream",
     "text": [
      "|\\_/|\n",
      "|q p|   /}\n",
      "( 0 )\"\"\"\\ \n",
      "|\"^\"`    |\n",
      "||_/=\\\\__|\n"
     ]
    }
   ],
   "source": [
    "print(\"|\\_/|\")\n",
    "print(\"|q p|   /}\")\n",
    "print('( 0 )\"\"\"\\ ')\n",
    "print(\"|\\\"^\\\"`    |\")\n",
    "print(\"||_/=\\\\\\__|\")"
   ]
  },
  {
   "cell_type": "markdown",
   "id": "edc60918",
   "metadata": {},
   "source": [
    "### 10718.두 줄에 걸쳐 \"강한친구 대한육군\"을 한 줄에 한 번씩 출력한다."
   ]
  },
  {
   "cell_type": "code",
   "execution_count": 8,
   "id": "51de1151",
   "metadata": {},
   "outputs": [
    {
     "name": "stdout",
     "output_type": "stream",
     "text": [
      "강한친구 대한육군\n",
      "강한친구 대한육군\n"
     ]
    }
   ],
   "source": [
    "print('강한친구 대한육군')\n",
    "print('강한친구 대한육군')"
   ]
  },
  {
   "cell_type": "markdown",
   "id": "3769dcf3",
   "metadata": {},
   "source": [
    "### 2439. 첫째 줄에는 별 1개, 둘째 줄에는 별 2개, N번째 줄에는 별 N개를 찍는 문제, 하지만, 오른쪽을 기준으로 정렬한 별(예제 참고)을 출력하시오. ✓"
   ]
  },
  {
   "cell_type": "code",
   "execution_count": 23,
   "id": "2a1cfdab",
   "metadata": {},
   "outputs": [
    {
     "name": "stdout",
     "output_type": "stream",
     "text": [
      "    *\n",
      "   **\n",
      "  ***\n",
      " ****\n",
      "*****\n"
     ]
    }
   ],
   "source": [
    "x = int(input())\n",
    "\n",
    "for i in range(1,x+1):\n",
    "    print(\" \"* (x-i) + \"*\" * i)"
   ]
  },
  {
   "cell_type": "markdown",
   "id": "9c36574a",
   "metadata": {},
   "source": [
    "### 10950. 두 정수 A와 B를 입력받은 다음, A+B를 출력하는 프로그램을 작성하시오. 첫째 줄에 테스트 케이스의 개수 T가 주어진다. 각 테스트 케이스는 한 줄로 이루어져 있으며, 각 줄에 A와 B가 주어진다. (0 < A, B < 10)"
   ]
  },
  {
   "cell_type": "code",
   "execution_count": null,
   "id": "14c97068",
   "metadata": {},
   "outputs": [
    {
     "name": "stdout",
     "output_type": "stream",
     "text": [
      "2\n",
      "5\n",
      "7\n",
      "17\n",
      "7\n"
     ]
    }
   ],
   "source": [
    "t = int(input())\n",
    "\n",
    "for i in range(t):\n",
    "    a,b = map(int, input().split())\n",
    "    print(a+b)"
   ]
  },
  {
   "cell_type": "markdown",
   "id": "0fa62c96",
   "metadata": {},
   "source": [
    "### 8393. n이 주어졌을 때, 1부터 n까지 합을 구하는 프로그램을 작성하시오. ✓"
   ]
  },
  {
   "cell_type": "code",
   "execution_count": 18,
   "id": "74a8d35b",
   "metadata": {},
   "outputs": [
    {
     "name": "stdout",
     "output_type": "stream",
     "text": [
      "15\n"
     ]
    }
   ],
   "source": [
    "n = int(input())\n",
    "\n",
    "total = 0\n",
    "for i in range(n+1):\n",
    "    total += i\n",
    "    \n",
    "print(total)"
   ]
  },
  {
   "cell_type": "markdown",
   "id": "5e343a52",
   "metadata": {},
   "source": [
    "### 14681. 점의 좌표를 입력받아 그 점이 어느 사분면에 속하는지 알아내는 프로그램을 작성하시오. 단, x좌표와 y좌표는 모두 양수나 음수라고 가정한다."
   ]
  },
  {
   "cell_type": "code",
   "execution_count": 21,
   "metadata": {},
   "outputs": [
    {
     "name": "stdout",
     "output_type": "stream",
     "text": [
      "4\n"
     ]
    }
   ],
   "source": [
    "x = int(input())\n",
    "y = int(input())\n",
    "\n",
    "if (x > 0) & (y > 0):\n",
    "    print(1)\n",
    "elif (x < 0) & (y > 0):\n",
    "    print(2)\n",
    "elif (x < 0) & (y < 0):\n",
    "    print(3)\n",
    "else:\n",
    "    print(4)"
   ]
  },
  {
   "cell_type": "markdown",
   "id": "2d9136ae",
   "metadata": {},
   "source": [
    "### 10871. 정수 N개로 이루어진 수열 A와 정수 X가 주어진다. 이때, A에서 X보다 작은 수를 모두 출력하는 프로그램을 작성하시오. ✓"
   ]
  },
  {
   "cell_type": "code",
   "execution_count": 33,
   "id": "30f5524a",
   "metadata": {},
   "outputs": [
    {
     "name": "stdout",
     "output_type": "stream",
     "text": [
      "1\n",
      "4\n",
      "2\n",
      "3\n"
     ]
    }
   ],
   "source": [
    "# 첫째 줄에 N과 X가 주어진다. (1 ≤ N, X ≤ 10,000)\n",
    "# 둘째 줄에 수열 A를 이루는 정수 N개가 주어진다. 주어지는 정수는 모두 1보다 크거나 같고, 10,000보다 작거나 같은 정수이다.\n",
    "\n",
    "n, x = map(int, input().split())\n",
    "a = list(map(int, input().split()))\n",
    "\n",
    "for j in range(len(a)):\n",
    "    if a[j] < x:\n",
    "        print(a[j])  "
   ]
  },
  {
   "cell_type": "markdown",
   "id": "9d76de2b",
   "metadata": {},
   "source": [
    "### 10952. 두 정수 A와 B를 입력받은 다음, A+B를 출력하는 프로그램을 작성하시오. 입력은 여러 개의 테스트 케이스로 이루어져 있다.각 테스트 케이스는 한 줄로 이루어져 있으며, 각 줄에 A와 B가 주어진다. (0 < A, B < 10) 입력의 마지막에는 0 두 개가 들어온다. ✓"
   ]
  },
  {
   "cell_type": "code",
   "execution_count": 34,
   "id": "0f84ca29",
   "metadata": {},
   "outputs": [],
   "source": [
    "while 1:\n",
    "    a,b = map(int, input().split())\n",
    "    if (a == 0 and b == 0):\n",
    "        break\n",
    "    else:\n",
    "        print(a + b)"
   ]
  },
  {
   "cell_type": "markdown",
   "id": "b531e313",
   "metadata": {},
   "source": [
    "### 10818. N개의 정수가 주어진다. 이때, 최솟값과 최댓값을 구하는 프로그램을 작성하시오."
   ]
  },
  {
   "cell_type": "code",
   "execution_count": 38,
   "metadata": {},
   "outputs": [
    {
     "name": "stdout",
     "output_type": "stream",
     "text": [
      "7 35\n"
     ]
    }
   ],
   "source": [
    "n = int(input())\n",
    "x = list(map(int, input().split()))\n",
    "\n",
    "print(min(x), max(x))"
   ]
  },
  {
   "cell_type": "markdown",
   "id": "0042bdb5",
   "metadata": {},
   "source": [
    "### 10926. 준하는 사이트에 회원가입을 하다가 joonas라는 아이디가 이미 존재하는 것을 보고 놀랐다. 준하는 놀람을 ??!로 표현한다. 준하가 가입하려고 하는 사이트에 이미 존재하는 아이디가 주어졌을 때, 놀람을 표현하는 프로그램을 작성하시오."
   ]
  },
  {
   "cell_type": "code",
   "execution_count": 2,
   "id": "b5b164ab",
   "metadata": {},
   "outputs": [
    {
     "name": "stdout",
     "output_type": "stream",
     "text": [
      "joonas??!\n"
     ]
    }
   ],
   "source": [
    "id = str(input())\n",
    "\n",
    "print(id +'??!')"
   ]
  },
  {
   "cell_type": "markdown",
   "id": "531adff0",
   "metadata": {},
   "source": [
    "### 2562. 9개의 서로 다른 자연수가 주어질 때, 이들 중 최댓값을 찾고 그 최댓값이 몇 번째 수인지를 구하는 프로그램을 작성하시오."
   ]
  },
  {
   "cell_type": "code",
   "execution_count": null,
   "id": "ecb76fdb",
   "metadata": {},
   "outputs": [],
   "source": [
    "# 방법 1\n",
    "list = []\n",
    "\n",
    "for i in range(9):\n",
    "    i = int(input())\n",
    "    list.append(i)\n",
    "\n",
    "# 방법 2\n",
    "list = [int(input()) for _ in range(9)]\n",
    "    \n",
    "print(max(list))\n",
    "print(list.index(max(list))+1)"
   ]
  },
  {
   "cell_type": "markdown",
   "id": "ad520791",
   "metadata": {},
   "source": [
    "### 11021. 두 정수 A와 B를 입력받은 다음, A+B를 출력하는 프로그램을 작성하시오.\n",
    "### 첫째 줄에 테스트 케이스의 개수 T가 주어진다. 각 테스트 케이스는 한 줄로 이루어져 있으며, 각 줄에 A와 B가 주어진다. (0 < A, B < 10) 각 테스트 케이스마다 \"Case #x: \"를 출력한 다음, A+B를 출력한다. 테스트 케이스 번호는 1부터 시작한다."
   ]
  },
  {
   "cell_type": "code",
   "execution_count": null,
   "id": "99708ef2",
   "metadata": {},
   "outputs": [
    {
     "name": "stdout",
     "output_type": "stream",
     "text": [
      "Case # 1 :  2\n",
      "Case # 2 :  5\n",
      "Case # 3 :  7\n",
      "Case # 4 :  17\n",
      "Case # 5 :  7\n"
     ]
    }
   ],
   "source": [
    "t = int(input())\n",
    "\n",
    "for i in range(1, t+1):\n",
    "    a,b = map(int, input().split())\n",
    "    print(\"Case #\"+str(i)+':',(a+b))"
   ]
  },
  {
   "cell_type": "markdown",
   "id": "4c796065",
   "metadata": {},
   "source": [
    "### 10951. 두 정수 A와 B를 입력받은 다음, A+B를 출력하는 프로그램을 작성하시오. 입력은 여러 개의 테스트 케이스로 이루어져 있다. 각 테스트 케이스마다 A+B를 출력한다."
   ]
  },
  {
   "cell_type": "code",
   "execution_count": null,
   "id": "ee30daca",
   "metadata": {},
   "outputs": [],
   "source": [
    "# while True로 무한반복 설정해 둔 뒤에 try, except로 정상적인 입력과 break할 부분 구분하기\n",
    "\n",
    "while True:\n",
    "    try:\n",
    "        a,b = map(int, input().split())\n",
    "        print(a+b)\n",
    "    except:\n",
    "        break"
   ]
  },
  {
   "cell_type": "markdown",
   "id": "eafdc979",
   "metadata": {},
   "source": [
    "### 2741. 자연수 N이 주어졌을 때, 1부터 N까지 한 줄에 하나씩 출력하는 프로그램을 작성하시오."
   ]
  },
  {
   "cell_type": "code",
   "execution_count": 16,
   "id": "65ddb9b5",
   "metadata": {},
   "outputs": [
    {
     "name": "stdout",
     "output_type": "stream",
     "text": [
      "1\n",
      "2\n",
      "3\n",
      "4\n",
      "5\n",
      "6\n",
      "7\n",
      "8\n",
      "9\n"
     ]
    }
   ],
   "source": [
    "n = int(input())\n",
    "\n",
    "for i in range(1, n+1):\n",
    "    print(i)"
   ]
  },
  {
   "cell_type": "markdown",
   "id": "96384b04",
   "metadata": {},
   "source": [
    "### 11022. 첫째 줄에 테스트 케이스의 개수 T가 주어진다. 각 테스트 케이스마다 \"Case #x: A + B = C\" 형식으로 출력한다. x는 테스트 케이스 번호이고 1부터 시작하며, C는 A+B이다."
   ]
  },
  {
   "cell_type": "code",
   "execution_count": 23,
   "id": "3abc12dd",
   "metadata": {},
   "outputs": [
    {
     "name": "stdout",
     "output_type": "stream",
     "text": [
      "Case #1: 1 + 1 = 2\n",
      "Case #2: 2 + 3 = 5\n",
      "Case #3: 3 + 4 = 7\n",
      "Case #4: 9 + 8 = 17\n",
      "Case #5: 5 + 2 = 7\n"
     ]
    }
   ],
   "source": [
    "# f-string 사용하기기\n",
    "t = int(input())\n",
    "\n",
    "for i in range(1,t+1):\n",
    "    a,b = map(int, input().split())\n",
    "    print(f\"Case #{i}: {a} + {b} = {a+b}\")"
   ]
  },
  {
   "cell_type": "markdown",
   "id": "9d15b35c",
   "metadata": {},
   "source": [
    "### 11720. N개의 숫자가 공백 없이 쓰여있다. 이 숫자를 모두 합해서 출력하는 프로그램을 작성하시오."
   ]
  },
  {
   "cell_type": "code",
   "execution_count": 1,
   "id": "cede3e23",
   "metadata": {},
   "outputs": [
    {
     "name": "stdout",
     "output_type": "stream",
     "text": [
      "15\n"
     ]
    }
   ],
   "source": [
    "nums= input()\n",
    "total = 0\n",
    "\n",
    "for i in nums:\n",
    "    total += int(i)\n",
    "print(total)"
   ]
  },
  {
   "cell_type": "markdown",
   "id": "b2f5dd61",
   "metadata": {},
   "source": [
    "### 15552. 첫 줄에 테스트케이스의 개수 T가 주어진다. 각 테스트케이스마다 A+B를 한 줄에 하나씩 순서대로 출력한다."
   ]
  },
  {
   "cell_type": "code",
   "execution_count": null,
   "id": "1ebf0804",
   "metadata": {},
   "outputs": [],
   "source": [
    "# 그냥 이 문제는 input 대신에 sys를 import해서 대신 사용할 수 있는 것을 보여주는 듯듯\n",
    "import sys\n",
    "\n",
    "t = int(sys.stdin.readline())\n",
    "\n",
    "for i in range(t):\n",
    "    a,b = map(int, sys.stdin.readline().split())\n",
    "    print(a+b)"
   ]
  },
  {
   "cell_type": "markdown",
   "id": "6233b603",
   "metadata": {},
   "source": [
    "### 11654. 알파벳 소문자, 대문자, 숫자 0-9중 하나가 주어졌을 때, 주어진 글자의 아스키 코드값을 출력하는 프로그램을 작성하시오."
   ]
  },
  {
   "cell_type": "code",
   "execution_count": null,
   "id": "6608459b",
   "metadata": {},
   "outputs": [
    {
     "name": "stdout",
     "output_type": "stream",
     "text": [
      "57\n"
     ]
    }
   ],
   "source": [
    "# ord() : 문자의 아스키 코드값을 리턴하는 함수.(A -> 65)\n",
    "# chr() : 아스키 코드값을 입력으로 받아 그 코드에 해당하는 문자를 출력하는 함수.(65 -> A)\n",
    "a = input()\n",
    "print(ord(a))"
   ]
  },
  {
   "cell_type": "markdown",
   "id": "78d51a9c",
   "metadata": {},
   "source": [
    "### 1152. 영어 대소문자와 공백으로 이루어진 문자열이 주어진다. 이 문자열에는 몇 개의 단어가 있을까? 이를 구하는 프로그램을 작성하시오. 단, 한 단어가 여러 번 등장하면 등장한 횟수만큼 모두 세어야 한다."
   ]
  },
  {
   "cell_type": "code",
   "execution_count": null,
   "id": "bb48951c",
   "metadata": {},
   "outputs": [
    {
     "name": "stdout",
     "output_type": "stream",
     "text": [
      "6\n"
     ]
    }
   ],
   "source": [
    "a = list(map(str, input().split()))\n",
    "\n",
    "print(len(a))"
   ]
  },
  {
   "cell_type": "markdown",
   "id": "fe064e04",
   "metadata": {},
   "source": [
    "### "
   ]
  },
  {
   "cell_type": "code",
   "execution_count": null,
   "id": "cfd4a09a",
   "metadata": {},
   "outputs": [],
   "source": []
  }
 ],
 "metadata": {
  "kernelspec": {
   "display_name": "Python 3",
   "language": "python",
   "name": "python3"
  },
  "language_info": {
   "codemirror_mode": {
    "name": "ipython",
    "version": 3
   },
   "file_extension": ".py",
   "mimetype": "text/x-python",
   "name": "python",
   "nbconvert_exporter": "python",
   "pygments_lexer": "ipython3",
   "version": "3.11.9"
  }
 },
 "nbformat": 4,
 "nbformat_minor": 5
}
