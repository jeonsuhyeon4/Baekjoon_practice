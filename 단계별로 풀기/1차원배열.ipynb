{
 "cells": [
  {
   "cell_type": "markdown",
   "id": "2e7cf3e4",
   "metadata": {},
   "source": [
    "### 10807 [개수세기]\n",
    "#### 총 N개의 정수가 주어졌을 때, 정수 v가 몇 개인지 구하는 프로그램을 작성하시오. 첫째 줄에 정수의 개수 N(1 ≤ N ≤ 100)이 주어진다. 둘째 줄에는 정수가 공백으로 구분되어져있다. 셋째 줄에는 찾으려고 하는 정수 v가 주어진다. 입력으로 주어지는 정수와 v는 -100보다 크거나 같으며, 100보다 작거나 같다."
   ]
  },
  {
   "cell_type": "code",
   "execution_count": 13,
   "id": "e64719eb",
   "metadata": {},
   "outputs": [
    {
     "name": "stdout",
     "output_type": "stream",
     "text": [
      "3\n"
     ]
    }
   ],
   "source": [
    "n = int(input())\n",
    "array = list(map(int, input().split()))\n",
    "v = int(input())\n",
    "\n",
    "result = 0\n",
    "\n",
    "for i in array:\n",
    "    if i == v:\n",
    "        result += 1\n",
    "print(result)\n",
    "    "
   ]
  },
  {
   "cell_type": "markdown",
   "id": "77567481",
   "metadata": {},
   "source": [
    "### 10810 [공넣기]\n",
    "#### 도현이는 바구니를 총 N개 가지고 있고, 각각의 바구니에는 1번부터 N번까지 번호가 매겨져 있다. 또, 1번부터 N번까지 번호가 적혀있는 공을 매우 많이 가지고 있다. 가장 처음 바구니에는 공이 들어있지 않으며, 바구니에는 공을 1개만 넣을 수 있다.\n",
    "\n",
    "#### 도현이는 앞으로 M번 공을 넣으려고 한다. 도현이는 한 번 공을 넣을 때, 공을 넣을 바구니 범위를 정하고, 정한 바구니에 모두 같은 번호가 적혀있는 공을 넣는다. 만약, 바구니에 공이 이미 있는 경우에는 들어있는 공을 빼고, 새로 공을 넣는다. 공을 넣을 바구니는 연속되어 있어야 한다.\n",
    "\n",
    "#### 공을 어떻게 넣을지가 주어졌을 때, M번 공을 넣은 이후에 각 바구니에 어떤 공이 들어 있는지 구하는 프로그램을 작성하시오."
   ]
  },
  {
   "cell_type": "code",
   "execution_count": 23,
   "id": "4899b7b5",
   "metadata": {},
   "outputs": [
    {
     "name": "stdout",
     "output_type": "stream",
     "text": [
      "1 2 1 1 0\n"
     ]
    }
   ],
   "source": [
    "bag, ball = map(int, input().split()) # 총 바구니의 수, 공의 갯수\n",
    "\n",
    "# 바구니 array\n",
    "array = [0]* bag\n",
    "\n",
    "for i in range(ball):\n",
    "    i, j, k = map(int, input().split()) # i ~ j까지 k번호 공\n",
    "    for number in range(i-1,j):\n",
    "        array[number] = k\n",
    "print(*array)"
   ]
  },
  {
   "cell_type": "markdown",
   "id": "23649580",
   "metadata": {},
   "source": [
    "### 10813 [공 바꾸기]\n",
    "#### 도현이는 바구니를 총 N개 가지고 있고, 각각의 바구니에는 1번부터 N번까지 번호가 매겨져 있다. 바구니에는 공이 1개씩 들어있고, 처음에는 바구니에 적혀있는 번호와 같은 번호가 적힌 공이 들어있다.\n",
    "\n",
    "#### 도현이는 앞으로 M번 공을 바꾸려고 한다. 도현이는 공을 바꿀 바구니 2개를 선택하고, 두 바구니에 들어있는 공을 서로 교환한다.\n",
    "\n",
    "#### 공을 어떻게 바꿀지가 주어졌을 때, M번 공을 바꾼 이후에 각 바구니에 어떤 공이 들어있는지 구하는 프로그램을 작성하시오."
   ]
  },
  {
   "cell_type": "code",
   "execution_count": null,
   "id": "bdfd685e",
   "metadata": {},
   "outputs": [
    {
     "name": "stdout",
     "output_type": "stream",
     "text": [
      "[1, 2, 3, 4, 5]\n",
      "[2, 1, 3, 4, 5]\n",
      "[2, 1, 4, 3, 5]\n",
      "[3, 1, 4, 2, 5]\n",
      "[3, 1, 4, 2, 5]\n",
      "3 1 4 2 5\n"
     ]
    }
   ],
   "source": [
    "bag, replace = map(int,input().split()) # 총 바구니 수, 교환할 공의 수수 \n",
    "\n",
    "array = []\n",
    "\n",
    "for i in range(1, bag+1):\n",
    "    array.append(i)\n",
    "\n",
    "for k in range(replace):\n",
    "    i , j = map(int, input().split())\n",
    "    a  = array[i-1]\n",
    "    b = array[j-1]\n",
    "    array[i-1] = b\n",
    "    array[j-1] = a\n",
    "\n",
    "print(*array)"
   ]
  },
  {
   "cell_type": "markdown",
   "id": "88d29440",
   "metadata": {},
   "source": [
    "### 5597 [과제 안 내신분]\n",
    "#### X대학 M교수님은 프로그래밍 수업을 맡고 있다. 교실엔 학생이 30명이 있는데, 학생 명부엔 각 학생별로 1번부터 30번까지 출석번호가 붙어 있다. 교수님이 내준 특별과제를 28명이 제출했는데, 그 중에서 제출 안 한 학생 2명의 출석번호를 구하는 프로그램을 작성하시오."
   ]
  },
  {
   "cell_type": "code",
   "execution_count": 44,
   "id": "6f205e56",
   "metadata": {},
   "outputs": [
    {
     "name": "stdout",
     "output_type": "stream",
     "text": [
      "2\n",
      "8\n"
     ]
    }
   ],
   "source": [
    "array = []\n",
    "\n",
    "for i in range(1,29):\n",
    "    a = int(input())\n",
    "    array.append(a)\n",
    "    \n",
    "disarray = []\n",
    "\n",
    "for j in range(1,31):\n",
    "    if j not in array:\n",
    "        disarray.append(j)\n",
    "        \n",
    "disarray.sort()\n",
    "print(disarray[0])\n",
    "print(disarray[1])"
   ]
  },
  {
   "cell_type": "markdown",
   "id": "ea671417",
   "metadata": {},
   "source": [
    "### 3052 [나머지]\n",
    "#### 두 자연수 A와 B가 있을 때, A%B는 A를 B로 나눈 나머지 이다. 예를 들어, 7, 14, 27, 38을 3으로 나눈 나머지는 1, 2, 0, 2이다. \n",
    "#### 수 10개를 입력받은 뒤, 이를 42로 나눈 나머지를 구한다. 그 다음 서로 다른 값이 몇 개 있는지 출력하는 프로그램을 작성하시오."
   ]
  },
  {
   "cell_type": "code",
   "execution_count": 5,
   "id": "02208637",
   "metadata": {},
   "outputs": [
    {
     "name": "stdout",
     "output_type": "stream",
     "text": [
      "10\n"
     ]
    }
   ],
   "source": [
    "array = []\n",
    "\n",
    "for i in range(10):\n",
    "    a = int(input())\n",
    "    array.append(a)\n",
    "    \n",
    "array2 = []\n",
    "\n",
    "for j in array:\n",
    "    b = j % 42\n",
    "    array2.append(b)\n",
    "    \n",
    "print(len(set(array2)))\n",
    "    "
   ]
  },
  {
   "cell_type": "markdown",
   "id": "25dc3dd2",
   "metadata": {},
   "source": [
    "### 10811 [바구니 뒤집기]\n",
    "#### 도현이는 바구니를 총 N개 가지고 있고, 각각의 바구니에는 1번부터 N번까지 번호가 순서대로 적혀져 있다. 바구니는 일렬로 놓여져 있고, 가장 왼쪽 바구니를 1번째 바구니, 그 다음 바구니를 2번째 바구니, ..., 가장 오른쪽 바구니를 N번째 바구니라고 부른다. 도현이는 앞으로 M번 바구니의 순서를 역순으로 만들려고 한다. 도현이는 한 번 순서를 역순으로 바꿀 때, 순서를 역순으로 만들 범위를 정하고, 그 범위에 들어있는 바구니의 순서를 역순으로 만든다. 바구니의 순서를 어떻게 바꿀지 주어졌을 때, M번 바구니의 순서를 역순으로 만든 다음, 바구니에 적혀있는 번호를 가장 왼쪽 바구니부터 출력하는 프로그램을 작성하시오."
   ]
  },
  {
   "cell_type": "code",
   "execution_count": 12,
   "id": "46abe614",
   "metadata": {},
   "outputs": [
    {
     "name": "stdout",
     "output_type": "stream",
     "text": [
      "3 4 1 2 5\n"
     ]
    }
   ],
   "source": [
    "total_bag, reverse_bag = map(int, input().split()) # 전체 바구니 수, 역순으로 만드는 바구니 번호\n",
    "\n",
    "array = []\n",
    "\n",
    "for a in range(1, total_bag+1):\n",
    "    array.append(a)\n",
    "    \n",
    "for b in range(reverse_bag):\n",
    "    i, j = map(int, input().split())\n",
    "    array[i-1:j] = array[i-1:j][::-1]\n",
    "\n",
    "print(*array)\n",
    "    "
   ]
  },
  {
   "cell_type": "markdown",
   "id": "4df0144d",
   "metadata": {},
   "source": [
    "### 1546 [평균]\n",
    "#### 세준이는 기말고사를 망쳤다. 세준이는 점수를 조작해서 집에 가져가기로 했다. 일단 세준이는 자기 점수 중에 최댓값을 골랐다. 이 값을 M이라고 한다. 그리고 나서 모든 점수를 점수/M*100으로 고쳤다. 예를 들어, 세준이의 최고점이 70이고, 수학점수가 50이었으면 수학점수는 50/70*100이 되어 71.43점이 된다. 세준이의 성적을 위의 방법대로 새로 계산했을 때, 새로운 평균을 구하는 프로그램을 작성하시오."
   ]
  },
  {
   "cell_type": "code",
   "execution_count": null,
   "id": "1eb23ae1",
   "metadata": {},
   "outputs": [
    {
     "name": "stdout",
     "output_type": "stream",
     "text": [
      "66.66666666666667\n"
     ]
    }
   ],
   "source": [
    "cnt = int(input()) # 과목의 갯수\n",
    "\n",
    "array = list(map(int, input().split()))\n",
    "    \n",
    "max_score = max(array)\n",
    "\n",
    "avg_list = []\n",
    "\n",
    "for j in array:\n",
    "    b = j/max_score*100\n",
    "    avg_list.append(b)\n",
    "    \n",
    "new_avg = sum(avg_list) / cnt    \n",
    "print(new_avg)"
   ]
  },
  {
   "cell_type": "code",
   "execution_count": null,
   "id": "0a18aa45",
   "metadata": {},
   "outputs": [],
   "source": []
  }
 ],
 "metadata": {
  "kernelspec": {
   "display_name": "Python 3",
   "language": "python",
   "name": "python3"
  },
  "language_info": {
   "codemirror_mode": {
    "name": "ipython",
    "version": 3
   },
   "file_extension": ".py",
   "mimetype": "text/x-python",
   "name": "python",
   "nbconvert_exporter": "python",
   "pygments_lexer": "ipython3",
   "version": "3.11.9"
  }
 },
 "nbformat": 4,
 "nbformat_minor": 5
}
