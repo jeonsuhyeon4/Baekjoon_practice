{
 "cells": [
  {
   "cell_type": "markdown",
   "id": "2e7cf3e4",
   "metadata": {},
   "source": [
    "### 10807 [개수세기]\n",
    "#### 총 N개의 정수가 주어졌을 때, 정수 v가 몇 개인지 구하는 프로그램을 작성하시오. 첫째 줄에 정수의 개수 N(1 ≤ N ≤ 100)이 주어진다. 둘째 줄에는 정수가 공백으로 구분되어져있다. 셋째 줄에는 찾으려고 하는 정수 v가 주어진다. 입력으로 주어지는 정수와 v는 -100보다 크거나 같으며, 100보다 작거나 같다."
   ]
  },
  {
   "cell_type": "code",
   "execution_count": 13,
   "id": "e64719eb",
   "metadata": {},
   "outputs": [
    {
     "name": "stdout",
     "output_type": "stream",
     "text": [
      "3\n"
     ]
    }
   ],
   "source": [
    "n = int(input())\n",
    "array = list(map(int, input().split()))\n",
    "v = int(input())\n",
    "\n",
    "result = 0\n",
    "\n",
    "for i in array:\n",
    "    if i == v:\n",
    "        result += 1\n",
    "print(result)\n",
    "    "
   ]
  },
  {
   "cell_type": "markdown",
   "id": "77567481",
   "metadata": {},
   "source": [
    "### 10810 [공넣기]\n",
    "#### 도현이는 바구니를 총 N개 가지고 있고, 각각의 바구니에는 1번부터 N번까지 번호가 매겨져 있다. 또, 1번부터 N번까지 번호가 적혀있는 공을 매우 많이 가지고 있다. 가장 처음 바구니에는 공이 들어있지 않으며, 바구니에는 공을 1개만 넣을 수 있다.\n",
    "\n",
    "#### 도현이는 앞으로 M번 공을 넣으려고 한다. 도현이는 한 번 공을 넣을 때, 공을 넣을 바구니 범위를 정하고, 정한 바구니에 모두 같은 번호가 적혀있는 공을 넣는다. 만약, 바구니에 공이 이미 있는 경우에는 들어있는 공을 빼고, 새로 공을 넣는다. 공을 넣을 바구니는 연속되어 있어야 한다.\n",
    "\n",
    "#### 공을 어떻게 넣을지가 주어졌을 때, M번 공을 넣은 이후에 각 바구니에 어떤 공이 들어 있는지 구하는 프로그램을 작성하시오."
   ]
  },
  {
   "cell_type": "code",
   "execution_count": 23,
   "id": "4899b7b5",
   "metadata": {},
   "outputs": [
    {
     "name": "stdout",
     "output_type": "stream",
     "text": [
      "1 2 1 1 0\n"
     ]
    }
   ],
   "source": [
    "bag, ball = map(int, input().split()) # 총 바구니의 수, 공의 갯수\n",
    "\n",
    "# 바구니 array\n",
    "array = [0]* bag\n",
    "\n",
    "for i in range(ball):\n",
    "    i, j, k = map(int, input().split()) # i ~ j까지 k번호 공\n",
    "    for number in range(i-1,j):\n",
    "        array[number] = k\n",
    "print(*array)"
   ]
  },
  {
   "cell_type": "markdown",
   "id": "23649580",
   "metadata": {},
   "source": [
    "### 10813 [공 바꾸기]\n",
    "#### 도현이는 바구니를 총 N개 가지고 있고, 각각의 바구니에는 1번부터 N번까지 번호가 매겨져 있다. 바구니에는 공이 1개씩 들어있고, 처음에는 바구니에 적혀있는 번호와 같은 번호가 적힌 공이 들어있다.\n",
    "\n",
    "#### 도현이는 앞으로 M번 공을 바꾸려고 한다. 도현이는 공을 바꿀 바구니 2개를 선택하고, 두 바구니에 들어있는 공을 서로 교환한다.\n",
    "\n",
    "#### 공을 어떻게 바꿀지가 주어졌을 때, M번 공을 바꾼 이후에 각 바구니에 어떤 공이 들어있는지 구하는 프로그램을 작성하시오."
   ]
  },
  {
   "cell_type": "code",
   "execution_count": null,
   "id": "bdfd685e",
   "metadata": {},
   "outputs": [
    {
     "name": "stdout",
     "output_type": "stream",
     "text": [
      "[1, 2, 3, 4, 5]\n",
      "[2, 1, 3, 4, 5]\n",
      "[2, 1, 4, 3, 5]\n",
      "[3, 1, 4, 2, 5]\n",
      "[3, 1, 4, 2, 5]\n",
      "3 1 4 2 5\n"
     ]
    }
   ],
   "source": [
    "bag, replace = map(int,input().split()) # 총 바구니 수, 교환할 공의 수수 \n",
    "\n",
    "array = []\n",
    "\n",
    "for i in range(1, bag+1):\n",
    "    array.append(i)\n",
    "\n",
    "for k in range(replace):\n",
    "    i , j = map(int, input().split())\n",
    "    a  = array[i-1]\n",
    "    b = array[j-1]\n",
    "    array[i-1] = b\n",
    "    array[j-1] = a\n",
    "\n",
    "print(*array)"
   ]
  },
  {
   "cell_type": "markdown",
   "id": "88d29440",
   "metadata": {},
   "source": [
    "### 5597 [과제 안 내신분]\n",
    "#### X대학 M교수님은 프로그래밍 수업을 맡고 있다. 교실엔 학생이 30명이 있는데, 학생 명부엔 각 학생별로 1번부터 30번까지 출석번호가 붙어 있다. 교수님이 내준 특별과제를 28명이 제출했는데, 그 중에서 제출 안 한 학생 2명의 출석번호를 구하는 프로그램을 작성하시오."
   ]
  },
  {
   "cell_type": "code",
   "execution_count": 44,
   "id": "6f205e56",
   "metadata": {},
   "outputs": [
    {
     "name": "stdout",
     "output_type": "stream",
     "text": [
      "2\n",
      "8\n"
     ]
    }
   ],
   "source": [
    "array = []\n",
    "\n",
    "for i in range(1,29):\n",
    "    a = int(input())\n",
    "    array.append(a)\n",
    "    \n",
    "disarray = []\n",
    "\n",
    "for j in range(1,31):\n",
    "    if j not in array:\n",
    "        disarray.append(j)\n",
    "        \n",
    "disarray.sort()\n",
    "print(disarray[0])\n",
    "print(disarray[1])"
   ]
  },
  {
   "cell_type": "code",
   "execution_count": null,
   "id": "02208637",
   "metadata": {},
   "outputs": [],
   "source": []
  }
 ],
 "metadata": {
  "kernelspec": {
   "display_name": "Python 3",
   "language": "python",
   "name": "python3"
  },
  "language_info": {
   "codemirror_mode": {
    "name": "ipython",
    "version": 3
   },
   "file_extension": ".py",
   "mimetype": "text/x-python",
   "name": "python",
   "nbconvert_exporter": "python",
   "pygments_lexer": "ipython3",
   "version": "3.11.9"
  }
 },
 "nbformat": 4,
 "nbformat_minor": 5
}
