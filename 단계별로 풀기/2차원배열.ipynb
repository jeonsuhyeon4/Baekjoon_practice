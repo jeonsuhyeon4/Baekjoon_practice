{
 "cells": [
  {
   "cell_type": "markdown",
   "id": "c059c3e1",
   "metadata": {},
   "source": [
    "### 2738 [행렬덧셈]\n",
    "#### N*M크기의 두 행렬 A와 B가 주어졌을 때, 두 행렬을 더하는 프로그램을 작성하시오."
   ]
  },
  {
   "cell_type": "code",
   "execution_count": null,
   "metadata": {},
   "outputs": [
    {
     "name": "stdout",
     "output_type": "stream",
     "text": [
      "[[1, 1, 1], [1, 1, 1], [1, 1, 1]]\n",
      "[[1, 1, 1], [1, 1, 1], [1, 1, 1]]\n",
      "2 2 2\n",
      "2 2 2\n",
      "2 2 2\n"
     ]
    }
   ],
   "source": [
    "n, m = map(int, input().split()) # 행, 열 입력\n",
    "\n",
    "a = [list(map(int, input().split())) for _ in range(n)]\n",
    "b = [list(map(int, input().split())) for _ in range(n)]\n",
    "\n",
    "c = []\n",
    "\n",
    "for i in range(n):\n",
    "    row = []\n",
    "    for j in range(m):\n",
    "        row.append(a[i][j] + b[i][j])\n",
    "    c.append(row)\n",
    "    \n",
    "for row in c:\n",
    "    print(*row)"
   ]
  },
  {
   "cell_type": "markdown",
   "id": "86ffed95",
   "metadata": {},
   "source": [
    "### 2566 [최댓값]\n",
    "#### <그림 1>과 같이 9×9 격자판에 쓰여진 81개의 자연수 또는 0이 주어질 때, 이들 중 최댓값을 찾고 그 최댓값이 몇 행 몇 열에 위치한 수인지 구하는 프로그램을 작성하시오"
   ]
  },
  {
   "cell_type": "code",
   "execution_count": null,
   "id": "bbd2d469",
   "metadata": {},
   "outputs": [],
   "source": [
    "a = [list(map(int, input().split())) for _ in range(9)]\n",
    "\n",
    "max_num = 0\n",
    "max_row, max_col = 0,0\n",
    "\n",
    "for row in range(9):\n",
    "    for col in range(9):\n",
    "        if max_num <= a[row][col]:\n",
    "            max_row = row +1\n",
    "            max_col = col + 1\n",
    "            max_num = a[row][col]\n",
    "            \n",
    "print(max_num)\n",
    "print(max_row, max_col)"
   ]
  },
  {
   "cell_type": "markdown",
   "id": "69e967c9",
   "metadata": {},
   "source": []
  }
 ],
 "metadata": {
  "kernelspec": {
   "display_name": "Python 3",
   "language": "python",
   "name": "python3"
  },
  "language_info": {
   "codemirror_mode": {
    "name": "ipython",
    "version": 3
   },
   "file_extension": ".py",
   "mimetype": "text/x-python",
   "name": "python",
   "nbconvert_exporter": "python",
   "pygments_lexer": "ipython3",
   "version": "3.11.9"
  }
 },
 "nbformat": 4,
 "nbformat_minor": 5
}
