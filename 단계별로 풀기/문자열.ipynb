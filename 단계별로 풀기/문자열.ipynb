{
 "cells": [
  {
   "cell_type": "markdown",
   "id": "5a063649",
   "metadata": {},
   "source": [
    "### 27866 [문자와 문자열]\n",
    "#### 단어 s와 정수 i가 주어졌을 때, s의 i번째 글자를 출력하는 프로그램을 작성하시오."
   ]
  },
  {
   "cell_type": "code",
   "execution_count": 2,
   "id": "a14788fe",
   "metadata": {},
   "outputs": [
    {
     "name": "stdout",
     "output_type": "stream",
     "text": [
      "r\n"
     ]
    }
   ],
   "source": [
    "s = str(input())\n",
    "i = int(input())\n",
    "\n",
    "print(s[i-1])"
   ]
  },
  {
   "cell_type": "markdown",
   "id": "c168d1e4",
   "metadata": {},
   "source": [
    "### 2743 [단어 길이 재기]\n",
    "#### 알파벳으로만 이루어진 단어를 입력받아, 그 길이를 출력하는 프로그램을 작성하시오"
   ]
  },
  {
   "cell_type": "code",
   "execution_count": 3,
   "id": "0cf0594a",
   "metadata": {},
   "outputs": [
    {
     "name": "stdout",
     "output_type": "stream",
     "text": [
      "8\n"
     ]
    }
   ],
   "source": [
    "word = str(input())\n",
    "print(len(word))"
   ]
  },
  {
   "cell_type": "markdown",
   "id": "f6fca41c",
   "metadata": {},
   "source": [
    "### 9086 [문자열]\n",
    "#### 문자열을 입력으로 주면 문자열의 첫 글자와 마지막 글자를 출력하는 프로그램을 작성하시오"
   ]
  },
  {
   "cell_type": "code",
   "execution_count": 8,
   "id": "dfd607b2",
   "metadata": {},
   "outputs": [
    {
     "name": "stdout",
     "output_type": "stream",
     "text": [
      "ae\n",
      "oo\n",
      "ab\n"
     ]
    }
   ],
   "source": [
    "t = int(input())\n",
    "\n",
    "for i in range(t):\n",
    "    word = str(input())\n",
    "    print(word[0] + word[-1])"
   ]
  },
  {
   "cell_type": "markdown",
   "id": "4aff5e74",
   "metadata": {},
   "source": [
    "### 2908 [상수]\n",
    "#### 상근이의 동생 상수는 수학을 정말 못한다. 상수는 숫자를 읽는데 문제가 있다. 이렇게 수학을 못하는 상수를 위해서 상근이는 수의 크기를 비교하는 문제를 내주었다. 상근이는 세 자리 수 두 개를 칠판에 써주었다. 그 다음에 크기가 큰 수를 말해보라고 했다.\n",
    "\n",
    "#### 상수는 수를 다른 사람과 다르게 거꾸로 읽는다. 예를 들어, 734와 893을 칠판에 적었다면, 상수는 이 수를 437과 398로 읽는다. 따라서, 상수는 두 수중 큰 수인 437을 큰 수라고 말할 것이다.\n",
    "\n",
    "#### 두 수가 주어졌을 때, 상수의 대답을 출력하는 프로그램을 작성하시오."
   ]
  },
  {
   "cell_type": "code",
   "execution_count": 15,
   "id": "aa181c02",
   "metadata": {},
   "outputs": [
    {
     "name": "stdout",
     "output_type": "stream",
     "text": [
      "132\n"
     ]
    }
   ],
   "source": [
    "a, b = map(str, input().split())\n",
    "\n",
    "a = a[2]+a[1]+a[0]\n",
    "b = b[2]+b[1]+b[0]\n",
    "\n",
    "a = int(a)\n",
    "b = int(b)\n",
    "\n",
    "print(max(a, b))"
   ]
  },
  {
   "cell_type": "markdown",
   "id": "fa21fd98",
   "metadata": {},
   "source": [
    "### 5622 [다이얼]\n",
    "#### 전화를 걸고 싶은 번호가 있다면, 숫자를 하나를 누른 다음에 금속 핀이 있는 곳 까지 시계방향으로 돌려야 한다. 숫자를 하나 누르면 다이얼이 처음 위치로 돌아가고, 다음 숫자를 누르려면 다이얼을 처음 위치에서 다시 돌려야 한다.\n",
    "\n",
    "#### 숫자 1을 걸려면 총 2초가 필요하다. 1보다 큰 수를 거는데 걸리는 시간은 이보다 더 걸리며, 한 칸 옆에 있는 숫자를 걸기 위해선 1초씩 더 걸린다. 상근이의 할머니는 전화 번호를 각 숫자에 해당하는 문자로 외운다. 즉, 어떤 단어를 걸 때, 각 알파벳에 해당하는 숫자를 걸면 된다. 예를 들어, UNUCIC는 868242와 같다.\n",
    "\n",
    "#### 할머니가 외운 단어가 주어졌을 때, 이 전화를 걸기 위해서 필요한 최소 시간을 구하는 프로그램을 작성하시오."
   ]
  },
  {
   "cell_type": "code",
   "execution_count": 24,
   "id": "9f3784f1",
   "metadata": {},
   "outputs": [
    {
     "name": "stdout",
     "output_type": "stream",
     "text": [
      "13\n"
     ]
    }
   ],
   "source": [
    "word = str(input())\n",
    "\n",
    "time = 0\n",
    "\n",
    "for i in word:\n",
    "    if i in ('A','B','C'):\n",
    "        time += 3\n",
    "    elif i in ('D','E','F'):\n",
    "        time += 4\n",
    "    elif i in ('G','H','I'):\n",
    "        time += 5\n",
    "    elif i in ('J','K','L'):\n",
    "        time += 6\n",
    "    elif i in ('M','N','O'):\n",
    "        time += 7\n",
    "    elif i in ('P','Q','R','S'):\n",
    "        time += 8\n",
    "    elif i in ('T','U','V'):\n",
    "        time += 9\n",
    "    elif i in ('W','X','Y','Z'):\n",
    "        time += 10\n",
    "\n",
    "print(time)"
   ]
  },
  {
   "cell_type": "markdown",
   "id": "c7180515",
   "metadata": {},
   "source": [
    "### 11718 [그대로 출력하기]\n",
    "#### 입력 받은 대로 출력하는 프로그램을 작성하시오.입력이 주어진다. 입력은 최대 100줄로 이루어져 있고, 알파벳 소문자, 대문자, 공백, 숫자로만 이루어져 있다. 각 줄은 100글자를 넘지 않으며, 빈 줄은 주어지지 않는다. 또, 각 줄은 공백으로 시작하지 않고, 공백으로 끝나지 않는다."
   ]
  },
  {
   "cell_type": "code",
   "execution_count": null,
   "id": "8b5a5ba2",
   "metadata": {},
   "outputs": [
    {
     "name": "stdout",
     "output_type": "stream",
     "text": [
      "\n",
      "heloo\n",
      "hello\n",
      "baekjoon\n",
      "onlinejudge\n",
      "\n",
      "\n",
      "\n",
      "\n"
     ]
    }
   ],
   "source": [
    "while True:\n",
    "    try:\n",
    "        line = input()\n",
    "        print(line)\n",
    "    except EOFError:\n",
    "        break"
   ]
  },
  {
   "cell_type": "code",
   "execution_count": null,
   "id": "5f0249b8",
   "metadata": {},
   "outputs": [],
   "source": []
  }
 ],
 "metadata": {
  "kernelspec": {
   "display_name": "Python 3",
   "language": "python",
   "name": "python3"
  },
  "language_info": {
   "codemirror_mode": {
    "name": "ipython",
    "version": 3
   },
   "file_extension": ".py",
   "mimetype": "text/x-python",
   "name": "python",
   "nbconvert_exporter": "python",
   "pygments_lexer": "ipython3",
   "version": "3.11.9"
  }
 },
 "nbformat": 4,
 "nbformat_minor": 5
}
