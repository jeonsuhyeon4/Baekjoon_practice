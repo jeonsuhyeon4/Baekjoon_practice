{
 "cells": [
  {
   "cell_type": "markdown",
   "id": "5a063649",
   "metadata": {},
   "source": [
    "### 27866 [문자와 문자열]\n",
    "#### 단어 s와 정수 i가 주어졌을 때, s의 i번째 글자를 출력하는 프로그램을 작성하시오."
   ]
  },
  {
   "cell_type": "code",
   "execution_count": 2,
   "id": "a14788fe",
   "metadata": {},
   "outputs": [
    {
     "name": "stdout",
     "output_type": "stream",
     "text": [
      "r\n"
     ]
    }
   ],
   "source": [
    "s = str(input())\n",
    "i = int(input())\n",
    "\n",
    "print(s[i-1])"
   ]
  },
  {
   "cell_type": "markdown",
   "id": "c168d1e4",
   "metadata": {},
   "source": [
    "### 2743 [단어 길이 재기]\n",
    "#### 알파벳으로만 이루어진 단어를 입력받아, 그 길이를 출력하는 프로그램을 작성하시오"
   ]
  },
  {
   "cell_type": "code",
   "execution_count": 3,
   "id": "0cf0594a",
   "metadata": {},
   "outputs": [
    {
     "name": "stdout",
     "output_type": "stream",
     "text": [
      "8\n"
     ]
    }
   ],
   "source": [
    "word = str(input())\n",
    "print(len(word))"
   ]
  },
  {
   "cell_type": "markdown",
   "id": "f6fca41c",
   "metadata": {},
   "source": [
    "### 9086 [문자열]\n",
    "#### 문자열을 입력으로 주면 문자열의 첫 글자와 마지막 글자를 출력하는 프로그램을 작성하시오"
   ]
  },
  {
   "cell_type": "code",
   "execution_count": 8,
   "id": "dfd607b2",
   "metadata": {},
   "outputs": [
    {
     "name": "stdout",
     "output_type": "stream",
     "text": [
      "ae\n",
      "oo\n",
      "ab\n"
     ]
    }
   ],
   "source": [
    "t = int(input())\n",
    "\n",
    "for i in range(t):\n",
    "    word = str(input())\n",
    "    print(word[0] + word[-1])"
   ]
  },
  {
   "cell_type": "code",
   "execution_count": null,
   "id": "aa181c02",
   "metadata": {},
   "outputs": [],
   "source": []
  }
 ],
 "metadata": {
  "kernelspec": {
   "display_name": "Python 3",
   "language": "python",
   "name": "python3"
  },
  "language_info": {
   "codemirror_mode": {
    "name": "ipython",
    "version": 3
   },
   "file_extension": ".py",
   "mimetype": "text/x-python",
   "name": "python",
   "nbconvert_exporter": "python",
   "pygments_lexer": "ipython3",
   "version": "3.11.9"
  }
 },
 "nbformat": 4,
 "nbformat_minor": 5
}
