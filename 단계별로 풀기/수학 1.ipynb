{
 "cells": [
  {
   "cell_type": "markdown",
   "id": "d6552e73",
   "metadata": {},
   "source": [
    "### 2745 [진법 변환]\n",
    "#### B진법 수 N이 주어진다. 이 수를 10진법으로 바꿔 출력하는 프로그램을 작성하시오.10진법을 넘어가는 진법은 숫자로 표시할 수 없는 자리가 있다. 이런 경우에는 다음과 같이 알파벳 대문자를 사용한다. A: 10, B: 11, ..., F: 15, ..., Y: 34, Z: 35"
   ]
  },
  {
   "cell_type": "code",
   "execution_count": 7,
   "id": "977f1711",
   "metadata": {},
   "outputs": [
    {
     "name": "stdout",
     "output_type": "stream",
     "text": [
      "60466175\n"
     ]
    }
   ],
   "source": [
    "# n = 10진법으로 바꾸고 싶은 수\n",
    "# b = 진법의 종류\n",
    "n, b = input().split()\n",
    "\n",
    "print(int(n,int(b)))\n"
   ]
  },
  {
   "cell_type": "markdown",
   "id": "d578db97",
   "metadata": {},
   "source": [
    "### 11005 [진법변환2]\n",
    "#### 10진법 수 N이 주어진다. 이 수를 B진법으로 바꿔 출력하는 프로그램을 작성하시오.10진법을 넘어가는 진법은 숫자로 표시할 수 없는 자리가 있다. 이런 경우에는 다음과 같이 알파벳 대문자를 사용한다. A: 10, B: 11, ..., F: 15, ..., Y: 34, Z: 35"
   ]
  },
  {
   "cell_type": "code",
   "execution_count": null,
   "id": "a60760a9",
   "metadata": {},
   "outputs": [
    {
     "name": "stdout",
     "output_type": "stream",
     "text": [
      "ZZZZZ\n",
      "ZZZZZ\n"
     ]
    }
   ],
   "source": [
    "# 10진법 -> b 진법\n",
    "\n",
    "n, b = map(int, input().split())\n",
    "\n",
    "answer = ''\n",
    "\n",
    "while n:\n",
    "    remainder = n % b\n",
    "    if remainder < 10:\n",
    "        answer += str(remainder)\n",
    "    else:\n",
    "        answer += chr(ord('A') + remainder - 10)\n",
    "        \n",
    "    n //= b\n",
    "\n",
    "print(answer[::-1])"
   ]
  },
  {
   "cell_type": "markdown",
   "id": "7c21f7b3",
   "metadata": {},
   "source": [
    "### 2720 [세탁소 사장 동혁]\n",
    "#### 거스름돈의 액수가 주어지면 리암이 줘야할 쿼터(Quarter, $0.25)의 개수, 다임(Dime, $0.10)의 개수, 니켈(Nickel, $0.05)의 개수, 페니(Penny, $0.01)의 개수를 구하는 프로그램을 작성하시오. 거스름돈은 항상 $5.00 이하이고, 손님이 받는 동전의 개수를 최소로 하려고 한다. 예를 들어, $1.24를 거슬러 주어야 한다면, 손님은 4쿼터, 2다임, 0니켈, 4페니를 받게 된다."
   ]
  },
  {
   "cell_type": "code",
   "execution_count": 31,
   "id": "0dfd0f0a",
   "metadata": {},
   "outputs": [
    {
     "name": "stdout",
     "output_type": "stream",
     "text": [
      "4 2 0 4\n",
      "1 0 0 0\n",
      "7 1 1 4\n"
     ]
    }
   ],
   "source": [
    "t = int(input())  # 테스트 케이스 개수\n",
    "coin = []\n",
    "\n",
    "for i in range(t):\n",
    "    c = int(input())  # 센트 단위 정수 입력\n",
    "    coin.append(c)\n",
    "\n",
    "for j in coin:\n",
    "    q = j // 25\n",
    "    qu = j % 25\n",
    "    d = qu // 10\n",
    "    du = qu % 10\n",
    "    n = du // 5\n",
    "    nu = du % 5\n",
    "    p = nu // 1\n",
    "    print(q,d,n,p)\n",
    "    "
   ]
  },
  {
   "cell_type": "code",
   "execution_count": 30,
   "id": "f764a99c",
   "metadata": {},
   "outputs": [
    {
     "name": "stdout",
     "output_type": "stream",
     "text": [
      "4 2 0 4\n",
      "1 0 0 0\n",
      "7 1 1 4\n"
     ]
    }
   ],
   "source": [
    "changes = [25, 10, 5, 1] #쿼터, 다임, 니켈, 페니\n",
    "T = int(input())\n",
    "\n",
    "for _ in range(T) :\n",
    "    C = int(input())\n",
    "    res = []\n",
    "\n",
    "    for i in changes :\n",
    "        res.append(C // i) #몫\n",
    "        C = C % i\t# 나머지 C에 할당\n",
    "        \n",
    "    print(*res)"
   ]
  },
  {
   "cell_type": "markdown",
   "id": "7f2d7986",
   "metadata": {},
   "source": [
    "### 2903 [중앙 이동 알고리즘]"
   ]
  },
  {
   "cell_type": "code",
   "execution_count": 2,
   "id": "cb672747",
   "metadata": {},
   "outputs": [
    {
     "name": "stdout",
     "output_type": "stream",
     "text": [
      "25\n"
     ]
    }
   ],
   "source": [
    "# 반복 횟수\n",
    "n = int(input())\n",
    "\n",
    "# 점 갯수 출력\n",
    "length = 2**n + 1\n",
    "points = length * length\n",
    "print(points)"
   ]
  },
  {
   "cell_type": "markdown",
   "id": "e1cec62b",
   "metadata": {},
   "source": [
    "### 2292 [벌집]\n",
    "#### 위의 그림과 같이 육각형으로 이루어진 벌집이 있다. 그림에서 보는 바와 같이 중앙의 방 1부터 시작해서 이웃하는 방에 돌아가면서 1씩 증가하는 번호를 주소로 매길 수 있다. 숫자 N이 주어졌을 때, 벌집의 중앙 1에서 N번 방까지 최소 개수의 방을 지나서 갈 때 몇 개의 방을 지나가는지(시작과 끝을 포함하여)를 계산하는 프로그램을 작성하시오. 예를 들면, 13까지는 3개, 58까지는 5개를 지난다."
   ]
  },
  {
   "cell_type": "code",
   "execution_count": null,
   "id": "3b32488e",
   "metadata": {},
   "outputs": [
    {
     "name": "stdout",
     "output_type": "stream",
     "text": [
      "5\n"
     ]
    }
   ],
   "source": [
    "n = int(input())\n",
    "\n",
    "room = 1 # 현재 방 개수\n",
    "layer = 1 # 층수\n",
    "\n",
    "while n > room:\n",
    "    room += 6*layer\n",
    "    layer += 1\n",
    "    \n",
    "print(layer)"
   ]
  },
  {
   "cell_type": "markdown",
   "id": "4113b742",
   "metadata": {},
   "source": [
    "### 1193 [분수찾기]"
   ]
  },
  {
   "cell_type": "code",
   "execution_count": null,
   "id": "3714209e",
   "metadata": {},
   "outputs": [],
   "source": []
  },
  {
   "cell_type": "markdown",
   "id": "3802ad84",
   "metadata": {},
   "source": [
    "### 2869 [달팽이는 올라가고 싶다]\n",
    "#### 땅 위에 달팽이가 있다. 이 달팽이는 높이가 V미터인 나무 막대를 올라갈 것이다.\n",
    "\n",
    "#### 달팽이는 낮에 A미터 올라갈 수 있다. 하지만, 밤에 잠을 자는 동안 B미터 미끄러진다. 또, 정상에 올라간 후에는 미끄러지지 않는다.\n",
    "\n",
    "#### 달팽이가 나무 막대를 모두 올라가려면, 며칠이 걸리는지 구하는 프로그램을 작성하시오."
   ]
  },
  {
   "cell_type": "code",
   "execution_count": null,
   "id": "39c5b8b8",
   "metadata": {},
   "outputs": [],
   "source": [
    "day, night, hight = int(input().split())\n",
    "\n",
    "        \n",
    "    \n",
    "    "
   ]
  },
  {
   "cell_type": "code",
   "execution_count": null,
   "id": "f3eb755b",
   "metadata": {},
   "outputs": [],
   "source": []
  },
  {
   "cell_type": "code",
   "execution_count": null,
   "id": "d0c72ec4",
   "metadata": {},
   "outputs": [],
   "source": []
  },
  {
   "cell_type": "markdown",
   "id": "683fbe96",
   "metadata": {},
   "source": []
  }
 ],
 "metadata": {
  "kernelspec": {
   "display_name": "Python 3",
   "language": "python",
   "name": "python3"
  },
  "language_info": {
   "codemirror_mode": {
    "name": "ipython",
    "version": 3
   },
   "file_extension": ".py",
   "mimetype": "text/x-python",
   "name": "python",
   "nbconvert_exporter": "python",
   "pygments_lexer": "ipython3",
   "version": "3.11.9"
  }
 },
 "nbformat": 4,
 "nbformat_minor": 5
}
