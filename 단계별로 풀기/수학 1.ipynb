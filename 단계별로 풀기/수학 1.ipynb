{
 "cells": [
  {
   "cell_type": "markdown",
   "id": "d6552e73",
   "metadata": {},
   "source": [
    "### 2745 [진법 변환]\n",
    "#### B진법 수 N이 주어진다. 이 수를 10진법으로 바꿔 출력하는 프로그램을 작성하시오.10진법을 넘어가는 진법은 숫자로 표시할 수 없는 자리가 있다. 이런 경우에는 다음과 같이 알파벳 대문자를 사용한다. A: 10, B: 11, ..., F: 15, ..., Y: 34, Z: 35"
   ]
  },
  {
   "cell_type": "code",
   "execution_count": 7,
   "id": "977f1711",
   "metadata": {},
   "outputs": [
    {
     "name": "stdout",
     "output_type": "stream",
     "text": [
      "60466175\n"
     ]
    }
   ],
   "source": [
    "# n = 10진법으로 바꾸고 싶은 수\n",
    "# b = 진법의 종류\n",
    "n, b = input().split()\n",
    "\n",
    "print(int(n,int(b)))\n"
   ]
  },
  {
   "cell_type": "markdown",
   "id": "d578db97",
   "metadata": {},
   "source": [
    "### 11005 [진법변환2]\n",
    "#### 10진법 수 N이 주어진다. 이 수를 B진법으로 바꿔 출력하는 프로그램을 작성하시오.10진법을 넘어가는 진법은 숫자로 표시할 수 없는 자리가 있다. 이런 경우에는 다음과 같이 알파벳 대문자를 사용한다. A: 10, B: 11, ..., F: 15, ..., Y: 34, Z: 35"
   ]
  },
  {
   "cell_type": "code",
   "execution_count": null,
   "id": "a60760a9",
   "metadata": {},
   "outputs": [
    {
     "name": "stdout",
     "output_type": "stream",
     "text": [
      "ZZZZZ\n",
      "ZZZZZ\n"
     ]
    }
   ],
   "source": [
    "# 10진법 -> b 진법\n",
    "\n",
    "n, b = map(int, input().split())\n",
    "\n",
    "answer = ''\n",
    "\n",
    "while n:\n",
    "    remainder = n % b\n",
    "    if remainder < 10:\n",
    "        answer += str(remainder)\n",
    "    else:\n",
    "        answer += chr(ord('A') + remainder - 10)\n",
    "        \n",
    "    n //= b\n",
    "\n",
    "print(answer[::-1])"
   ]
  },
  {
   "cell_type": "markdown",
   "id": "7c21f7b3",
   "metadata": {},
   "source": [
    "### 2720 [세탁소 사장 동혁]\n",
    "#### 거스름돈의 액수가 주어지면 리암이 줘야할 쿼터(Quarter, $0.25)의 개수, 다임(Dime, $0.10)의 개수, 니켈(Nickel, $0.05)의 개수, 페니(Penny, $0.01)의 개수를 구하는 프로그램을 작성하시오. 거스름돈은 항상 $5.00 이하이고, 손님이 받는 동전의 개수를 최소로 하려고 한다. 예를 들어, $1.24를 거슬러 주어야 한다면, 손님은 4쿼터, 2다임, 0니켈, 4페니를 받게 된다."
   ]
  },
  {
   "cell_type": "code",
   "execution_count": 31,
   "id": "0dfd0f0a",
   "metadata": {},
   "outputs": [
    {
     "name": "stdout",
     "output_type": "stream",
     "text": [
      "4 2 0 4\n",
      "1 0 0 0\n",
      "7 1 1 4\n"
     ]
    }
   ],
   "source": [
    "t = int(input())  # 테스트 케이스 개수\n",
    "coin = []\n",
    "\n",
    "for i in range(t):\n",
    "    c = int(input())  # 센트 단위 정수 입력\n",
    "    coin.append(c)\n",
    "\n",
    "for j in coin:\n",
    "    q = j // 25\n",
    "    qu = j % 25\n",
    "    d = qu // 10\n",
    "    du = qu % 10\n",
    "    n = du // 5\n",
    "    nu = du % 5\n",
    "    p = nu // 1\n",
    "    print(q,d,n,p)\n",
    "    "
   ]
  },
  {
   "cell_type": "code",
   "execution_count": 30,
   "id": "f764a99c",
   "metadata": {},
   "outputs": [
    {
     "name": "stdout",
     "output_type": "stream",
     "text": [
      "4 2 0 4\n",
      "1 0 0 0\n",
      "7 1 1 4\n"
     ]
    }
   ],
   "source": [
    "changes = [25, 10, 5, 1] #쿼터, 다임, 니켈, 페니\n",
    "T = int(input())\n",
    "\n",
    "for _ in range(T) :\n",
    "    C = int(input())\n",
    "    res = []\n",
    "\n",
    "    for i in changes :\n",
    "        res.append(C // i) #몫\n",
    "        C = C % i\t# 나머지 C에 할당\n",
    "        \n",
    "    print(*res)"
   ]
  },
  {
   "cell_type": "code",
   "execution_count": null,
   "id": "cb672747",
   "metadata": {},
   "outputs": [],
   "source": []
  },
  {
   "cell_type": "markdown",
   "id": "e1cec62b",
   "metadata": {},
   "source": []
  }
 ],
 "metadata": {
  "kernelspec": {
   "display_name": "Python 3",
   "language": "python",
   "name": "python3"
  },
  "language_info": {
   "codemirror_mode": {
    "name": "ipython",
    "version": 3
   },
   "file_extension": ".py",
   "mimetype": "text/x-python",
   "name": "python",
   "nbconvert_exporter": "python",
   "pygments_lexer": "ipython3",
   "version": "3.11.9"
  }
 },
 "nbformat": 4,
 "nbformat_minor": 5
}
