{
 "cells": [
  {
   "cell_type": "markdown",
   "id": "449a1e8e",
   "metadata": {},
   "source": [
    "### 25083 [새싹]\n",
    "#### 새싹을 출력하시오."
   ]
  },
  {
   "cell_type": "code",
   "execution_count": 10,
   "metadata": {},
   "outputs": [
    {
     "name": "stdout",
     "output_type": "stream",
     "text": [
      "         ,r'\"7\n",
      "r`-_   ,'  ,/\n",
      " \\. \". L_r'\n",
      "   `~\\/\n",
      "      |\n",
      "      |\n"
     ]
    }
   ],
   "source": [
    "print(\"         ,r'\\\"7\")\n",
    "print(\"r`-_   ,'  ,/\")\n",
    "print(\" \\. \\\". L_r'\")\n",
    "print('   `~\\\\/')\n",
    "print('      |')\n",
    "print('      |')"
   ]
  },
  {
   "cell_type": "markdown",
   "id": "6d781c7e",
   "metadata": {},
   "source": [
    "### 3003 [킹, 퀸, 룩, 비숍, 나이트, 폰]\n",
    "#### 체스판의 먼지를 털어내고 걸레로 닦으니 그럭저럭 쓸만한 체스판이 되었다. 하지만, 검정색 피스는 모두 있었으나, 흰색 피스는 개수가 올바르지 않았다. 체스는 총 16개의 피스를 사용하며, 킹 1개, 퀸 1개, 룩 2개, 비숍 2개, 나이트 2개, 폰 8개로 구성되어 있다. 동혁이가 발견한 흰색 피스의 개수가 주어졌을 때, 몇 개를 더하거나 빼야 올바른 세트가 되는지 구하는 프로그램을 작성하시오."
   ]
  },
  {
   "cell_type": "code",
   "execution_count": 12,
   "id": "83ccba34",
   "metadata": {},
   "outputs": [
    {
     "name": "stdout",
     "output_type": "stream",
     "text": [
      "-1 0 0 1 0 7\n"
     ]
    }
   ],
   "source": [
    "king, queen, look, bishup, nite, phone = map(int, input().split())\n",
    "\n",
    "print(1-king, 1-queen, 2-look, 2-bishup, 2-nite, 8-phone)"
   ]
  },
  {
   "cell_type": "markdown",
   "id": "7e4c846e",
   "metadata": {},
   "source": [
    "### 2444 [별찍기 -7]\n"
   ]
  },
  {
   "cell_type": "code",
   "execution_count": 1,
   "id": "15b9f310",
   "metadata": {},
   "outputs": [
    {
     "name": "stdout",
     "output_type": "stream",
     "text": [
      "    *\n",
      "   ***\n",
      "  *****\n",
      " *******\n",
      "*********\n",
      " *******\n",
      "  *****\n",
      "   ***\n",
      "    *\n"
     ]
    }
   ],
   "source": [
    "n = int(input())\n",
    "\n",
    "for i in range(1, n+1):\n",
    "    star = 2 * i -1\n",
    "    print(\" \" * (n-i) +\"*\"* star)\n",
    "    \n",
    "for j in range(n-1,0,-1):\n",
    "    star = 2 * j -1\n",
    "    print(\" \" * (n-j) +\"*\"*star)"
   ]
  },
  {
   "cell_type": "markdown",
   "id": "b0cb4c67",
   "metadata": {},
   "source": [
    "### 10988 [팰린드롬인지 확인하기]\n",
    "#### 알파벳 소문자로만 이루어진 단어가 주어진다. 이때, 이 단어가 팰린드롬인지 아닌지 확인하는 프로그램을 작성하시오. 팰린드롬이란 앞으로 읽을 때와 거꾸로 읽을 때 똑같은 단어를 말한다. "
   ]
  },
  {
   "cell_type": "code",
   "execution_count": 36,
   "id": "9ee8faf1",
   "metadata": {},
   "outputs": [
    {
     "data": {
      "text/plain": [
       "'noojkaeb'"
      ]
     },
     "execution_count": 36,
     "metadata": {},
     "output_type": "execute_result"
    }
   ],
   "source": [
    "word = 'beakjoon'\n",
    "word[-1::-1]"
   ]
  },
  {
   "cell_type": "code",
   "execution_count": null,
   "id": "243181fa",
   "metadata": {},
   "outputs": [
    {
     "name": "stdout",
     "output_type": "stream",
     "text": [
      "level\n",
      "1\n"
     ]
    }
   ],
   "source": [
    "word = str(input())\n",
    "\n",
    "if word == word[-1::-1]:\n",
    "    print('1')\n",
    "else:\n",
    "    print('0')"
   ]
  },
  {
   "cell_type": "markdown",
   "id": "78c0769f",
   "metadata": {},
   "source": [
    "### 2941 [크로아티아 알파벳]"
   ]
  },
  {
   "cell_type": "code",
   "execution_count": null,
   "id": "f7595e76",
   "metadata": {},
   "outputs": [
    {
     "name": "stdout",
     "output_type": "stream",
     "text": [
      "*e**ak\n",
      "6\n"
     ]
    }
   ],
   "source": [
    "word = str(input())\n",
    "croatia = ['c=','c-','dz=','d-','lj','nj','s=','z=']\n",
    "\n",
    "for i in croatia:\n",
    "    word = word.replace(i,\"*\")\n",
    "    \n",
    "print(len(word))"
   ]
  },
  {
   "cell_type": "markdown",
   "id": "98517b7a",
   "metadata": {},
   "source": [
    "### 1316 [그룹단어 체커]\n",
    "#### 그룹 단어란 단어에 존재하는 모든 문자에 대해서, 각 문자가 연속해서 나타나는 경우만을 말한다. 예를 들면, ccazzzzbb는 c, a, z, b가 모두 연속해서 나타나고, kin도 k, i, n이 연속해서 나타나기 때문에 그룹 단어이지만, aabbbccb는 b가 떨어져서 나타나기 때문에 그룹 단어가 아니다. 단어 N개를 입력으로 받아 그룹 단어의 개수를 출력하는 프로그램을 작성하시오."
   ]
  },
  {
   "cell_type": "code",
   "execution_count": null,
   "id": "dc70fd56",
   "metadata": {},
   "outputs": [
    {
     "name": "stdout",
     "output_type": "stream",
     "text": [
      "3\n"
     ]
    }
   ],
   "source": [
    "word_number = int(input())\n",
    "count = 0 # 입력된 단어들 중 그룹단어인 단어들의 카운트\n",
    "\n",
    "for i in range(word_number):\n",
    "    word = str(input())\n",
    "    is_group_word = True # 처음에 참값으로 지정\n",
    "    previous_char = word[0] # 처음 문자열에 대한 비교\n",
    "    used_chars = [previous_char] # 이전 문자열 값을 저장하기 위한 리스트\n",
    "    \n",
    "    for char in word:\n",
    "        if char != previous_char: # 만약, 이전 문자열과 다르고\n",
    "            if char in used_chars: # 사용된 문자열에 포함되어 있으면\n",
    "                is_group_word = False # 그룹문자가 false인 경우에 해당\n",
    "                break\n",
    "            used_chars.append(char) # used_chars 리스트에 추가\n",
    "        previous_char = char # 이전 문자열의 값으로 이동\n",
    "        \n",
    "    if is_group_word:\n",
    "        count += 1\n",
    "        \n",
    "print(count)"
   ]
  },
  {
   "cell_type": "markdown",
   "id": "2384f2a0",
   "metadata": {},
   "source": [
    "### 25206. [너의 평점은]\n",
    "#### 치훈이의 전공평점을 계산해주는 프로그램을 작성해보자. 전공평점은 전공과목별 (학점 × 과목평점)의 합을 학점의 총합으로 나눈 값이다. 인하대학교 컴퓨터공학과의 등급에 따른 과목평점은 다음 표와 같다. P/F 과목의 경우 등급이 P또는 F로 표시되는데, 등급이 P인 과목은 계산에서 제외해야 한다. 과연 치훈이는 무사히 졸업할 수 있을까?"
   ]
  },
  {
   "cell_type": "code",
   "execution_count": null,
   "id": "929dfd21",
   "metadata": {},
   "outputs": [
    {
     "name": "stdout",
     "output_type": "stream",
     "text": [
      "0.08968926553672317\n"
     ]
    }
   ],
   "source": [
    "total_score = 0\n",
    "total_credit = 0\n",
    "\n",
    "for i in range(20):\n",
    "    subject_name , score, degree = map(str, input().split())\n",
    "    score = float(score)\n",
    "    \n",
    "    if degree == 'A+':\n",
    "        grade_point = 4.5\n",
    "    elif degree == 'A0':\n",
    "        grade_point = 4.0\n",
    "    elif degree == 'B+':\n",
    "        grade_point = 3.5\n",
    "    elif degree == 'B0':\n",
    "        grade_point = 3.0\n",
    "    elif degree == 'C+':\n",
    "        grade_point = 2.5\n",
    "    elif degree == 'C0':\n",
    "        grade_point = 2.0\n",
    "    elif degree == 'D+':\n",
    "        grade_point = 1.5\n",
    "    elif degree == 'D0':\n",
    "        grade_point = 1.0\n",
    "    elif degree == 'F':\n",
    "        grade_point = 0.0\n",
    "    else:\n",
    "        continue\n",
    "    \n",
    "    total_score += score * grade_point\n",
    "    total_credit += score\n",
    "    \n",
    "average_score = total_score / total_credit\n",
    "print(average_score)    "
   ]
  }
 ],
 "metadata": {
  "kernelspec": {
   "display_name": "Python 3",
   "language": "python",
   "name": "python3"
  },
  "language_info": {
   "codemirror_mode": {
    "name": "ipython",
    "version": 3
   },
   "file_extension": ".py",
   "mimetype": "text/x-python",
   "name": "python",
   "nbconvert_exporter": "python",
   "pygments_lexer": "ipython3",
   "version": "3.11.9"
  }
 },
 "nbformat": 4,
 "nbformat_minor": 5
}
