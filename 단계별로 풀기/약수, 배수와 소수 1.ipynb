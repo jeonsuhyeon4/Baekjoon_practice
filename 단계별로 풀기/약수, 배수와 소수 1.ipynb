{
 "cells": [
  {
   "cell_type": "markdown",
   "id": "1984ae07",
   "metadata": {},
   "source": [
    "### 5086 [배수와 약수]\n",
    "#### 두 수가 주어졌을 때, 다음 3가지 중 어떤 관계인지 구하는 프로그램을 작성하시오.\n",
    "\n",
    "##### 첫 번째 숫자가 두 번째 숫자의 약수이다.\n",
    "##### 첫 번째 숫자가 두 번째 숫자의 배수이다.\n",
    "##### 첫 번째 숫자가 두 번째 숫자의 약수와 배수 모두 아니다."
   ]
  },
  {
   "cell_type": "code",
   "execution_count": 4,
   "id": "dbaac5ff",
   "metadata": {},
   "outputs": [
    {
     "name": "stdout",
     "output_type": "stream",
     "text": [
      "factor\n",
      "multiple\n",
      "neither\n"
     ]
    }
   ],
   "source": [
    "while True:\n",
    "    a, b = map(int, input().split())\n",
    "    if a == 0 & b == 0:\n",
    "        break \n",
    "    elif b % a == 0:\n",
    "        print('factor')\n",
    "    elif a % b == 0:\n",
    "        print('multiple')\n",
    "    else:\n",
    "        print('neither')"
   ]
  },
  {
   "cell_type": "markdown",
   "id": "4e294d4c",
   "metadata": {},
   "source": [
    "### 2501 [약수 구하기]\n",
    "#### 두 개의 자연수 N과 K가 주어졌을 때, N의 약수들 중 K번째로 작은 수를 출력하는 프로그램을 작성하시오."
   ]
  },
  {
   "cell_type": "code",
   "execution_count": null,
   "id": "c73d862f",
   "metadata": {},
   "outputs": [
    {
     "name": "stdout",
     "output_type": "stream",
     "text": [
      "0\n"
     ]
    }
   ],
   "source": [
    "n, k = map(int, input().split())\n",
    "\n",
    "factor = []\n",
    "\n",
    "for i in range(1, n+1):\n",
    "    if n % int(i) == 0:\n",
    "        factor.append(i)\n",
    "        \n",
    "factor = sorted(factor)\n",
    "\n",
    "if k <= len(factor):\n",
    "    print(factor[k-1])\n",
    "else:\n",
    "    print(0)"
   ]
  },
  {
   "cell_type": "markdown",
   "id": "d4254a7e",
   "metadata": {},
   "source": [
    "### 9506 [약수들의 합]\n",
    "#### 어떤 숫자 n이 자신을 제외한 모든 약수들의 합과 같으면, 그 수를 완전수라고 한다. 예를 들어 6은 6 = 1 + 2 + 3 으로 완전수이다. n이 완전수인지 아닌지 판단해주는 프로그램을 작성하라."
   ]
  },
  {
   "cell_type": "code",
   "execution_count": 6,
   "id": "1e7a2b5c",
   "metadata": {},
   "outputs": [
    {
     "name": "stdout",
     "output_type": "stream",
     "text": [
      "6 = 1 + 2 + 3\n",
      "12 is Not Perfect.\n",
      "28 = 1 + 2 + 4 + 7 + 14\n"
     ]
    }
   ],
   "source": [
    "while True:\n",
    "    n = int(input())\n",
    "    if n == -1:\n",
    "        break\n",
    "\n",
    "    lst = []\n",
    "\n",
    "    # 약수 구하는 코드\n",
    "    for i in range(1,n):\n",
    "        if n % i == 0:\n",
    "            lst.append(i)\n",
    "\n",
    "    # 출력값 구하는 코드\n",
    "    if sum(lst) == n:\n",
    "        print(f\"{n} = {' + '.join(map(str, lst))}\")\n",
    "    else:\n",
    "        print(f\"{n} is Not Perfect.\")\n",
    "    "
   ]
  },
  {
   "cell_type": "markdown",
   "id": "09d49bcc",
   "metadata": {},
   "source": [
    "### 1978 [소수찾기]\n",
    "#### 주어진 수 N개 중에서 소수가 몇 개인지 찾아서 출력하는 프로그램을 작성하시오."
   ]
  },
  {
   "cell_type": "code",
   "execution_count": 49,
   "id": "7de6fca8",
   "metadata": {},
   "outputs": [
    {
     "name": "stdout",
     "output_type": "stream",
     "text": [
      "3\n"
     ]
    }
   ],
   "source": [
    "n = int(input())\n",
    "data = list(map(int, input().split()))\n",
    "count = 0\n",
    "\n",
    "for x in data:\n",
    "    for i in range(2, x+1):\n",
    "        if x % i == 0:\n",
    "            if x == i:\n",
    "                count += 1\n",
    "                \n",
    "            break\n",
    "        \n",
    "        \n",
    "print(count)"
   ]
  },
  {
   "cell_type": "markdown",
   "id": "0f5eb1bc",
   "metadata": {},
   "source": [
    "### 2581 [소수]\n",
    "#### 자연수 M과 N이 주어질 때 M이상 N이하의 자연수 중 소수인 것을 모두 골라 이들 소수의 합과 최솟값을 찾는 프로그램을 작성하시오."
   ]
  },
  {
   "cell_type": "code",
   "execution_count": 58,
   "id": "00da850b",
   "metadata": {},
   "outputs": [
    {
     "name": "stdout",
     "output_type": "stream",
     "text": [
      "620\n",
      "61\n"
     ]
    }
   ],
   "source": [
    "m=int(input())\n",
    "n=int(input())\n",
    "li=[]\n",
    "for i in range(m,n+1):\n",
    "    e=0\n",
    "    if i>1:\n",
    "        for j in range(2,i):\n",
    "            if i%j==0:\n",
    "                e+=1\n",
    "                break\n",
    "        if e==0:\n",
    "            li.append(i)\n",
    "\n",
    "if len(li)<1:\n",
    "    print(-1)\n",
    "else:\n",
    "    print(sum(li))\n",
    "    print(min(li))\n"
   ]
  },
  {
   "cell_type": "code",
   "execution_count": null,
   "id": "60b20957",
   "metadata": {},
   "outputs": [],
   "source": []
  }
 ],
 "metadata": {
  "kernelspec": {
   "display_name": "Python 3",
   "language": "python",
   "name": "python3"
  },
  "language_info": {
   "codemirror_mode": {
    "name": "ipython",
    "version": 3
   },
   "file_extension": ".py",
   "mimetype": "text/x-python",
   "name": "python",
   "nbconvert_exporter": "python",
   "pygments_lexer": "ipython3",
   "version": "3.11.9"
  }
 },
 "nbformat": 4,
 "nbformat_minor": 5
}
