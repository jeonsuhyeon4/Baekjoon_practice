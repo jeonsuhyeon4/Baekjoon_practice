{
 "cells": [
  {
   "cell_type": "markdown",
   "id": "5131c84f",
   "metadata": {},
   "source": [
    "### 2588 [곱셈] \n",
    "#### (세 자리 수) × (세 자리 수)는 다음과 같은 과정을 통하여 이루어진다. (1)과 (2)위치에 들어갈 세 자리 자연수가 주어질 때 (3), (4), (5), (6)위치에 들어갈 값을 구하는 프로그램을 작성하시오. -> 자세한 문제는 백준 참고"
   ]
  },
  {
   "cell_type": "code",
   "execution_count": null,
   "id": "6603e50c",
   "metadata": {},
   "outputs": [],
   "source": [
    "one = input()\n",
    "two = input()\n",
    "\n",
    "three = int(one) * int(two[-1])\n",
    "four = int(one) * int(two[-2])\n",
    "five = int(one) * int(two[-3])\n",
    "six = three + four * 10 + five * 100\n",
    "\n",
    "print(three)\n",
    "print(four)\n",
    "print(five)\n",
    "print(six)"
   ]
  },
  {
   "cell_type": "markdown",
   "id": "321d9888",
   "metadata": {},
   "source": [
    "### 11382 [꼬마정민] 꼬마 정민이는 이제 A + B 정도는 쉽게 계산할 수 있다. 이제 A + B + C를 계산할 차례이다!\n"
   ]
  },
  {
   "cell_type": "code",
   "execution_count": 4,
   "id": "71dbd2a0",
   "metadata": {},
   "outputs": [
    {
     "name": "stdout",
     "output_type": "stream",
     "text": [
      "7931\n"
     ]
    }
   ],
   "source": [
    "a, b, c = map(int, input().split())\n",
    "print( a+b+c)"
   ]
  },
  {
   "cell_type": "code",
   "execution_count": null,
   "id": "138c3640",
   "metadata": {},
   "outputs": [],
   "source": []
  }
 ],
 "metadata": {
  "kernelspec": {
   "display_name": "Python 3",
   "language": "python",
   "name": "python3"
  },
  "language_info": {
   "codemirror_mode": {
    "name": "ipython",
    "version": 3
   },
   "file_extension": ".py",
   "mimetype": "text/x-python",
   "name": "python",
   "nbconvert_exporter": "python",
   "pygments_lexer": "ipython3",
   "version": "3.11.9"
  }
 },
 "nbformat": 4,
 "nbformat_minor": 5
}
