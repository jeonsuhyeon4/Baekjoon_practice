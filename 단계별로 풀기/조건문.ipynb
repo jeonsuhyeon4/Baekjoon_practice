{
 "cells": [
  {
   "cell_type": "markdown",
   "id": "9bfc2937",
   "metadata": {},
   "source": [
    "### 2884 [알람시계] \n",
    "#### 이 방법은 단순하다. 원래 설정되어 있는 알람을 45분 앞서는 시간으로 바꾸는 것이다. 어차피 알람 소리를 들으면, 알람을 끄고 조금 더 잘 것이기 때문이다. 이 방법을 사용하면, 매일 아침 더 잤다는 기분을 느낄 수 있고, 학교도 지각하지 않게 된다. 현재 상근이가 설정한 알람 시각이 주어졌을 때, 창영이의 방법을 사용한다면, 이를 언제로 고쳐야 하는지 구하는 프로그램을 작성하시오.첫째 줄에 두 정수 H와 M이 주어진다. (0 ≤ H ≤ 23, 0 ≤ M ≤ 59) 그리고 이것은 현재 상근이가 설정한 알람 시간 H시 M분을 의미한다.입력 시간은 24시간 표현을 사용한다. 24시간 표현에서 하루의 시작은 0:0(자정)이고, 끝은 23:59(다음날 자정 1분 전)이다. 시간을 나타낼 때, 불필요한 0은 사용하지 않는다."
   ]
  },
  {
   "cell_type": "code",
   "execution_count": 4,
   "id": "b0cac8b6",
   "metadata": {},
   "outputs": [
    {
     "name": "stdout",
     "output_type": "stream",
     "text": [
      "23 45\n"
     ]
    }
   ],
   "source": [
    "h, m = map(int, input().split())\n",
    "\n",
    "if m < 45:\n",
    "    if h == 0:\n",
    "        h = 23\n",
    "        m += 60\n",
    "    else:\n",
    "        h -= 1\n",
    "        m += 60\n",
    "print (h, m - 45)"
   ]
  },
  {
   "cell_type": "markdown",
   "id": "1071330d",
   "metadata": {},
   "source": [
    "### 2525 [오븐시계]\n",
    "#### 훈제오리구이를 시작하는 시각과 오븐구이를 하는 데 필요한 시간이 분단위로 주어졌을 때, 오븐구이가 끝나는 시각을 계산하는 프로그램을 작성하시오. 첫째 줄에는 현재 시각이 나온다. 현재 시각은 시 A (0 ≤ A ≤ 23) 와 분 B (0 ≤ B ≤ 59)가 정수로 빈칸을 사이에 두고 순서대로 주어진다. 두 번째 줄에는 요리하는 데 필요한 시간 C (0 ≤ C ≤ 1,000)가 분 단위로 주어진다."
   ]
  },
  {
   "cell_type": "code",
   "execution_count": 5,
   "id": "4b43059a",
   "metadata": {},
   "outputs": [
    {
     "name": "stdout",
     "output_type": "stream",
     "text": [
      "14 50\n"
     ]
    }
   ],
   "source": [
    "h, m = map(int, input().split())\n",
    "timer = int(input())\n",
    "\n",
    "total_minute = m + timer\n",
    "h += total_minute // 60\n",
    "m = total_minute % 60\n",
    "\n",
    "if h > 23:\n",
    "    h -= 24\n",
    "    \n",
    "print(h,m)"
   ]
  },
  {
   "cell_type": "code",
   "execution_count": null,
   "id": "c0054621",
   "metadata": {},
   "outputs": [],
   "source": []
  }
 ],
 "metadata": {
  "kernelspec": {
   "display_name": "Python 3",
   "language": "python",
   "name": "python3"
  },
  "language_info": {
   "codemirror_mode": {
    "name": "ipython",
    "version": 3
   },
   "file_extension": ".py",
   "mimetype": "text/x-python",
   "name": "python",
   "nbconvert_exporter": "python",
   "pygments_lexer": "ipython3",
   "version": "3.11.9"
  }
 },
 "nbformat": 4,
 "nbformat_minor": 5
}
