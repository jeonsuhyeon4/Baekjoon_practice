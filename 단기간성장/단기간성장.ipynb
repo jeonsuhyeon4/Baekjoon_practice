{
 "cells": [
  {
   "cell_type": "markdown",
   "id": "55d58be2",
   "metadata": {},
   "source": [
    "##### 12865. 준서가 여행에 필요하다고 생각하는 N개의 물건이 있다. 각 물건은 무게 W와 가치 V를 가지는데, 해당 물건을 배낭에 넣어서 가면 준서가 V만큼 즐길 수 있다. 아직 행군을 해본 적이 없는 준서는 최대 K만큼의 무게만을 넣을 수 있는 배낭만 들고 다닐 수 있다. 준서가 최대한 즐거운 여행을 하기 위해 배낭에 넣을 수 있는 물건들의 가치의 최댓값을 알려주자. -> 첫 줄에 물품의 수 N(1 ≤ N ≤ 100)과 준서가 버틸 수 있는 무게 K(1 ≤ K ≤ 100,000)가 주어진다. 두 번째 줄부터 N개의 줄에 거쳐 각 물건의 무게 W(1 ≤ W ≤ 100,000)와 해당 물건의 가치 V(0 ≤ V ≤ 1,000)가 주어진다. 한 줄에 배낭에 넣을 수 있는 물건들의 가치합의 최댓값을 출력한다."
   ]
  },
  {
   "cell_type": "code",
   "execution_count": null,
   "id": "8e7bd1dc",
   "metadata": {},
   "outputs": [
    {
     "name": "stdout",
     "output_type": "stream",
     "text": [
      "39\n"
     ]
    }
   ],
   "source": [
    "n, k = map(int, input().split())\n",
    "\n",
    "# 무개와 가치를 리스트 값으로 \n",
    "back = [list(map(int, input().split)) for _ in range(n)]\n",
    "# 특정무게를 가질 수 있는 최대 가치를 저장 -> DP 테이블, k+1은 인덱스 값으로 0부터 시작하기 때문에\n",
    "# 테이블 값은 0으로 초기화\n",
    "dp = [0]*(k+1)\n",
    "\n",
    "for stuff in back:\n",
    "    w, v = stuff[0], stuff[1]\n",
    "    for i in range(k, w-1, -1):\n",
    "        dp[i] = max(dp[i], dp[i-2]+v)\n",
    "        \n",
    "print(dp[-1])"
   ]
  },
  {
   "cell_type": "code",
   "execution_count": null,
   "metadata": {},
   "outputs": [],
   "source": []
  },
  {
   "cell_type": "code",
   "execution_count": null,
   "id": "138c3640",
   "metadata": {},
   "outputs": [],
   "source": []
  }
 ],
 "metadata": {
  "kernelspec": {
   "display_name": "Python 3",
   "language": "python",
   "name": "python3"
  },
  "language_info": {
   "codemirror_mode": {
    "name": "ipython",
    "version": 3
   },
   "file_extension": ".py",
   "mimetype": "text/x-python",
   "name": "python",
   "nbconvert_exporter": "python",
   "pygments_lexer": "ipython3",
   "version": "3.11.9"
  }
 },
 "nbformat": 4,
 "nbformat_minor": 5
}
